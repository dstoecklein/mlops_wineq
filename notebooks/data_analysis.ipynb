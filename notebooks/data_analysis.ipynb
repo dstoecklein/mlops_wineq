{
 "cells": [
  {
   "cell_type": "code",
   "execution_count": 1,
   "metadata": {},
   "outputs": [],
   "source": [
    "import pandas as pd\n",
    "import numpy as np\n",
    "import seaborn as sns\n",
    "import matplotlib.pyplot as plt\n",
    "from sklearn.model_selection import train_test_split, GridSearchCV\n",
    "from sklearn.linear_model import ElasticNet, Lasso, Ridge, LinearRegression\n",
    "from sklearn.tree import DecisionTreeRegressor\n",
    "from sklearn.ensemble import RandomForestRegressor\n",
    "from sklearn.metrics import mean_absolute_error, mean_squared_error, explained_variance_score, r2_score\n",
    "from sklearn.preprocessing import MinMaxScaler\n",
    "import joblib\n",
    "%matplotlib inline"
   ]
  },
  {
   "cell_type": "code",
   "execution_count": 2,
   "metadata": {},
   "outputs": [],
   "source": [
    "df = pd.read_csv(\"winequality.csv\")"
   ]
  },
  {
   "cell_type": "code",
   "execution_count": 20,
   "metadata": {},
   "outputs": [
    {
     "data": {
      "text/plain": [
       "array([ True, False,  True, ..., False, False,  True])"
      ]
     },
     "execution_count": 20,
     "metadata": {},
     "output_type": "execute_result"
    }
   ],
   "source": [
    "msk = np.random.rand(len(df)) < 0.3\n",
    "msk"
   ]
  },
  {
   "cell_type": "code",
   "execution_count": 18,
   "metadata": {},
   "outputs": [
    {
     "data": {
      "text/plain": [
       "(1126, 473)"
      ]
     },
     "execution_count": 18,
     "metadata": {},
     "output_type": "execute_result"
    }
   ],
   "source": [
    "msk = np.random.rand(len(df)) < 0.3\n",
    "train = df[~msk]\n",
    "test = df[msk]\n",
    "len(train), len(test)"
   ]
  },
  {
   "cell_type": "code",
   "execution_count": 21,
   "metadata": {},
   "outputs": [
    {
     "data": {
      "text/html": [
       "<div>\n",
       "<style scoped>\n",
       "    .dataframe tbody tr th:only-of-type {\n",
       "        vertical-align: middle;\n",
       "    }\n",
       "\n",
       "    .dataframe tbody tr th {\n",
       "        vertical-align: top;\n",
       "    }\n",
       "\n",
       "    .dataframe thead th {\n",
       "        text-align: right;\n",
       "    }\n",
       "</style>\n",
       "<table border=\"1\" class=\"dataframe\">\n",
       "  <thead>\n",
       "    <tr style=\"text-align: right;\">\n",
       "      <th></th>\n",
       "      <th>fixed acidity</th>\n",
       "      <th>volatile acidity</th>\n",
       "      <th>citric acid</th>\n",
       "      <th>residual sugar</th>\n",
       "      <th>chlorides</th>\n",
       "      <th>free sulfur dioxide</th>\n",
       "      <th>total sulfur dioxide</th>\n",
       "      <th>density</th>\n",
       "      <th>pH</th>\n",
       "      <th>sulphates</th>\n",
       "      <th>alcohol</th>\n",
       "      <th>TARGET</th>\n",
       "    </tr>\n",
       "  </thead>\n",
       "  <tbody>\n",
       "    <tr>\n",
       "      <th>0</th>\n",
       "      <td>7.4</td>\n",
       "      <td>0.700</td>\n",
       "      <td>0.00</td>\n",
       "      <td>1.9</td>\n",
       "      <td>0.076</td>\n",
       "      <td>11.0</td>\n",
       "      <td>34.0</td>\n",
       "      <td>0.99780</td>\n",
       "      <td>3.51</td>\n",
       "      <td>0.56</td>\n",
       "      <td>9.4</td>\n",
       "      <td>5</td>\n",
       "    </tr>\n",
       "    <tr>\n",
       "      <th>2</th>\n",
       "      <td>7.8</td>\n",
       "      <td>0.760</td>\n",
       "      <td>0.04</td>\n",
       "      <td>2.3</td>\n",
       "      <td>0.092</td>\n",
       "      <td>15.0</td>\n",
       "      <td>54.0</td>\n",
       "      <td>0.99700</td>\n",
       "      <td>3.26</td>\n",
       "      <td>0.65</td>\n",
       "      <td>9.8</td>\n",
       "      <td>5</td>\n",
       "    </tr>\n",
       "    <tr>\n",
       "      <th>6</th>\n",
       "      <td>7.9</td>\n",
       "      <td>0.600</td>\n",
       "      <td>0.06</td>\n",
       "      <td>1.6</td>\n",
       "      <td>0.069</td>\n",
       "      <td>15.0</td>\n",
       "      <td>59.0</td>\n",
       "      <td>0.99640</td>\n",
       "      <td>3.30</td>\n",
       "      <td>0.46</td>\n",
       "      <td>9.4</td>\n",
       "      <td>5</td>\n",
       "    </tr>\n",
       "    <tr>\n",
       "      <th>7</th>\n",
       "      <td>7.3</td>\n",
       "      <td>0.650</td>\n",
       "      <td>0.00</td>\n",
       "      <td>1.2</td>\n",
       "      <td>0.065</td>\n",
       "      <td>15.0</td>\n",
       "      <td>21.0</td>\n",
       "      <td>0.99460</td>\n",
       "      <td>3.39</td>\n",
       "      <td>0.47</td>\n",
       "      <td>10.0</td>\n",
       "      <td>7</td>\n",
       "    </tr>\n",
       "    <tr>\n",
       "      <th>8</th>\n",
       "      <td>7.8</td>\n",
       "      <td>0.580</td>\n",
       "      <td>0.02</td>\n",
       "      <td>2.0</td>\n",
       "      <td>0.073</td>\n",
       "      <td>9.0</td>\n",
       "      <td>18.0</td>\n",
       "      <td>0.99680</td>\n",
       "      <td>3.36</td>\n",
       "      <td>0.57</td>\n",
       "      <td>9.5</td>\n",
       "      <td>7</td>\n",
       "    </tr>\n",
       "    <tr>\n",
       "      <th>...</th>\n",
       "      <td>...</td>\n",
       "      <td>...</td>\n",
       "      <td>...</td>\n",
       "      <td>...</td>\n",
       "      <td>...</td>\n",
       "      <td>...</td>\n",
       "      <td>...</td>\n",
       "      <td>...</td>\n",
       "      <td>...</td>\n",
       "      <td>...</td>\n",
       "      <td>...</td>\n",
       "      <td>...</td>\n",
       "    </tr>\n",
       "    <tr>\n",
       "      <th>1592</th>\n",
       "      <td>6.3</td>\n",
       "      <td>0.510</td>\n",
       "      <td>0.13</td>\n",
       "      <td>2.3</td>\n",
       "      <td>0.076</td>\n",
       "      <td>29.0</td>\n",
       "      <td>40.0</td>\n",
       "      <td>0.99574</td>\n",
       "      <td>3.42</td>\n",
       "      <td>0.75</td>\n",
       "      <td>11.0</td>\n",
       "      <td>6</td>\n",
       "    </tr>\n",
       "    <tr>\n",
       "      <th>1593</th>\n",
       "      <td>6.8</td>\n",
       "      <td>0.620</td>\n",
       "      <td>0.08</td>\n",
       "      <td>1.9</td>\n",
       "      <td>0.068</td>\n",
       "      <td>28.0</td>\n",
       "      <td>38.0</td>\n",
       "      <td>0.99651</td>\n",
       "      <td>3.42</td>\n",
       "      <td>0.82</td>\n",
       "      <td>9.5</td>\n",
       "      <td>6</td>\n",
       "    </tr>\n",
       "    <tr>\n",
       "      <th>1594</th>\n",
       "      <td>6.2</td>\n",
       "      <td>0.600</td>\n",
       "      <td>0.08</td>\n",
       "      <td>2.0</td>\n",
       "      <td>0.090</td>\n",
       "      <td>32.0</td>\n",
       "      <td>44.0</td>\n",
       "      <td>0.99490</td>\n",
       "      <td>3.45</td>\n",
       "      <td>0.58</td>\n",
       "      <td>10.5</td>\n",
       "      <td>5</td>\n",
       "    </tr>\n",
       "    <tr>\n",
       "      <th>1597</th>\n",
       "      <td>5.9</td>\n",
       "      <td>0.645</td>\n",
       "      <td>0.12</td>\n",
       "      <td>2.0</td>\n",
       "      <td>0.075</td>\n",
       "      <td>32.0</td>\n",
       "      <td>44.0</td>\n",
       "      <td>0.99547</td>\n",
       "      <td>3.57</td>\n",
       "      <td>0.71</td>\n",
       "      <td>10.2</td>\n",
       "      <td>5</td>\n",
       "    </tr>\n",
       "    <tr>\n",
       "      <th>1598</th>\n",
       "      <td>6.0</td>\n",
       "      <td>0.310</td>\n",
       "      <td>0.47</td>\n",
       "      <td>3.6</td>\n",
       "      <td>0.067</td>\n",
       "      <td>18.0</td>\n",
       "      <td>42.0</td>\n",
       "      <td>0.99549</td>\n",
       "      <td>3.39</td>\n",
       "      <td>0.66</td>\n",
       "      <td>11.0</td>\n",
       "      <td>6</td>\n",
       "    </tr>\n",
       "  </tbody>\n",
       "</table>\n",
       "<p>1126 rows × 12 columns</p>\n",
       "</div>"
      ],
      "text/plain": [
       "      fixed acidity  volatile acidity  citric acid  residual sugar  chlorides  \\\n",
       "0               7.4             0.700         0.00             1.9      0.076   \n",
       "2               7.8             0.760         0.04             2.3      0.092   \n",
       "6               7.9             0.600         0.06             1.6      0.069   \n",
       "7               7.3             0.650         0.00             1.2      0.065   \n",
       "8               7.8             0.580         0.02             2.0      0.073   \n",
       "...             ...               ...          ...             ...        ...   \n",
       "1592            6.3             0.510         0.13             2.3      0.076   \n",
       "1593            6.8             0.620         0.08             1.9      0.068   \n",
       "1594            6.2             0.600         0.08             2.0      0.090   \n",
       "1597            5.9             0.645         0.12             2.0      0.075   \n",
       "1598            6.0             0.310         0.47             3.6      0.067   \n",
       "\n",
       "      free sulfur dioxide  total sulfur dioxide  density    pH  sulphates  \\\n",
       "0                    11.0                  34.0  0.99780  3.51       0.56   \n",
       "2                    15.0                  54.0  0.99700  3.26       0.65   \n",
       "6                    15.0                  59.0  0.99640  3.30       0.46   \n",
       "7                    15.0                  21.0  0.99460  3.39       0.47   \n",
       "8                     9.0                  18.0  0.99680  3.36       0.57   \n",
       "...                   ...                   ...      ...   ...        ...   \n",
       "1592                 29.0                  40.0  0.99574  3.42       0.75   \n",
       "1593                 28.0                  38.0  0.99651  3.42       0.82   \n",
       "1594                 32.0                  44.0  0.99490  3.45       0.58   \n",
       "1597                 32.0                  44.0  0.99547  3.57       0.71   \n",
       "1598                 18.0                  42.0  0.99549  3.39       0.66   \n",
       "\n",
       "      alcohol  TARGET  \n",
       "0         9.4       5  \n",
       "2         9.8       5  \n",
       "6         9.4       5  \n",
       "7        10.0       7  \n",
       "8         9.5       7  \n",
       "...       ...     ...  \n",
       "1592     11.0       6  \n",
       "1593      9.5       6  \n",
       "1594     10.5       5  \n",
       "1597     10.2       5  \n",
       "1598     11.0       6  \n",
       "\n",
       "[1126 rows x 12 columns]"
      ]
     },
     "execution_count": 21,
     "metadata": {},
     "output_type": "execute_result"
    }
   ],
   "source": [
    "train"
   ]
  },
  {
   "cell_type": "code",
   "execution_count": 22,
   "metadata": {},
   "outputs": [
    {
     "data": {
      "text/html": [
       "<div>\n",
       "<style scoped>\n",
       "    .dataframe tbody tr th:only-of-type {\n",
       "        vertical-align: middle;\n",
       "    }\n",
       "\n",
       "    .dataframe tbody tr th {\n",
       "        vertical-align: top;\n",
       "    }\n",
       "\n",
       "    .dataframe thead th {\n",
       "        text-align: right;\n",
       "    }\n",
       "</style>\n",
       "<table border=\"1\" class=\"dataframe\">\n",
       "  <thead>\n",
       "    <tr style=\"text-align: right;\">\n",
       "      <th></th>\n",
       "      <th>fixed acidity</th>\n",
       "      <th>volatile acidity</th>\n",
       "      <th>citric acid</th>\n",
       "      <th>residual sugar</th>\n",
       "      <th>chlorides</th>\n",
       "      <th>free sulfur dioxide</th>\n",
       "      <th>total sulfur dioxide</th>\n",
       "      <th>density</th>\n",
       "      <th>pH</th>\n",
       "      <th>sulphates</th>\n",
       "      <th>alcohol</th>\n",
       "      <th>TARGET</th>\n",
       "    </tr>\n",
       "  </thead>\n",
       "  <tbody>\n",
       "    <tr>\n",
       "      <th>1</th>\n",
       "      <td>7.8</td>\n",
       "      <td>0.880</td>\n",
       "      <td>0.00</td>\n",
       "      <td>2.6</td>\n",
       "      <td>0.098</td>\n",
       "      <td>25.0</td>\n",
       "      <td>67.0</td>\n",
       "      <td>0.99680</td>\n",
       "      <td>3.20</td>\n",
       "      <td>0.68</td>\n",
       "      <td>9.8</td>\n",
       "      <td>5</td>\n",
       "    </tr>\n",
       "    <tr>\n",
       "      <th>3</th>\n",
       "      <td>11.2</td>\n",
       "      <td>0.280</td>\n",
       "      <td>0.56</td>\n",
       "      <td>1.9</td>\n",
       "      <td>0.075</td>\n",
       "      <td>17.0</td>\n",
       "      <td>60.0</td>\n",
       "      <td>0.99800</td>\n",
       "      <td>3.16</td>\n",
       "      <td>0.58</td>\n",
       "      <td>9.8</td>\n",
       "      <td>6</td>\n",
       "    </tr>\n",
       "    <tr>\n",
       "      <th>4</th>\n",
       "      <td>7.4</td>\n",
       "      <td>0.700</td>\n",
       "      <td>0.00</td>\n",
       "      <td>1.9</td>\n",
       "      <td>0.076</td>\n",
       "      <td>11.0</td>\n",
       "      <td>34.0</td>\n",
       "      <td>0.99780</td>\n",
       "      <td>3.51</td>\n",
       "      <td>0.56</td>\n",
       "      <td>9.4</td>\n",
       "      <td>5</td>\n",
       "    </tr>\n",
       "    <tr>\n",
       "      <th>5</th>\n",
       "      <td>7.4</td>\n",
       "      <td>0.660</td>\n",
       "      <td>0.00</td>\n",
       "      <td>1.8</td>\n",
       "      <td>0.075</td>\n",
       "      <td>13.0</td>\n",
       "      <td>40.0</td>\n",
       "      <td>0.99780</td>\n",
       "      <td>3.51</td>\n",
       "      <td>0.56</td>\n",
       "      <td>9.4</td>\n",
       "      <td>5</td>\n",
       "    </tr>\n",
       "    <tr>\n",
       "      <th>11</th>\n",
       "      <td>7.5</td>\n",
       "      <td>0.500</td>\n",
       "      <td>0.36</td>\n",
       "      <td>6.1</td>\n",
       "      <td>0.071</td>\n",
       "      <td>17.0</td>\n",
       "      <td>102.0</td>\n",
       "      <td>0.99780</td>\n",
       "      <td>3.35</td>\n",
       "      <td>0.80</td>\n",
       "      <td>10.5</td>\n",
       "      <td>5</td>\n",
       "    </tr>\n",
       "    <tr>\n",
       "      <th>...</th>\n",
       "      <td>...</td>\n",
       "      <td>...</td>\n",
       "      <td>...</td>\n",
       "      <td>...</td>\n",
       "      <td>...</td>\n",
       "      <td>...</td>\n",
       "      <td>...</td>\n",
       "      <td>...</td>\n",
       "      <td>...</td>\n",
       "      <td>...</td>\n",
       "      <td>...</td>\n",
       "      <td>...</td>\n",
       "    </tr>\n",
       "    <tr>\n",
       "      <th>1580</th>\n",
       "      <td>7.4</td>\n",
       "      <td>0.350</td>\n",
       "      <td>0.33</td>\n",
       "      <td>2.4</td>\n",
       "      <td>0.068</td>\n",
       "      <td>9.0</td>\n",
       "      <td>26.0</td>\n",
       "      <td>0.99470</td>\n",
       "      <td>3.36</td>\n",
       "      <td>0.60</td>\n",
       "      <td>11.9</td>\n",
       "      <td>6</td>\n",
       "    </tr>\n",
       "    <tr>\n",
       "      <th>1583</th>\n",
       "      <td>6.2</td>\n",
       "      <td>0.460</td>\n",
       "      <td>0.29</td>\n",
       "      <td>2.1</td>\n",
       "      <td>0.074</td>\n",
       "      <td>32.0</td>\n",
       "      <td>98.0</td>\n",
       "      <td>0.99578</td>\n",
       "      <td>3.33</td>\n",
       "      <td>0.62</td>\n",
       "      <td>9.8</td>\n",
       "      <td>5</td>\n",
       "    </tr>\n",
       "    <tr>\n",
       "      <th>1589</th>\n",
       "      <td>6.6</td>\n",
       "      <td>0.725</td>\n",
       "      <td>0.20</td>\n",
       "      <td>7.8</td>\n",
       "      <td>0.073</td>\n",
       "      <td>29.0</td>\n",
       "      <td>79.0</td>\n",
       "      <td>0.99770</td>\n",
       "      <td>3.29</td>\n",
       "      <td>0.54</td>\n",
       "      <td>9.2</td>\n",
       "      <td>5</td>\n",
       "    </tr>\n",
       "    <tr>\n",
       "      <th>1595</th>\n",
       "      <td>5.9</td>\n",
       "      <td>0.550</td>\n",
       "      <td>0.10</td>\n",
       "      <td>2.2</td>\n",
       "      <td>0.062</td>\n",
       "      <td>39.0</td>\n",
       "      <td>51.0</td>\n",
       "      <td>0.99512</td>\n",
       "      <td>3.52</td>\n",
       "      <td>0.76</td>\n",
       "      <td>11.2</td>\n",
       "      <td>6</td>\n",
       "    </tr>\n",
       "    <tr>\n",
       "      <th>1596</th>\n",
       "      <td>6.3</td>\n",
       "      <td>0.510</td>\n",
       "      <td>0.13</td>\n",
       "      <td>2.3</td>\n",
       "      <td>0.076</td>\n",
       "      <td>29.0</td>\n",
       "      <td>40.0</td>\n",
       "      <td>0.99574</td>\n",
       "      <td>3.42</td>\n",
       "      <td>0.75</td>\n",
       "      <td>11.0</td>\n",
       "      <td>6</td>\n",
       "    </tr>\n",
       "  </tbody>\n",
       "</table>\n",
       "<p>473 rows × 12 columns</p>\n",
       "</div>"
      ],
      "text/plain": [
       "      fixed acidity  volatile acidity  citric acid  residual sugar  chlorides  \\\n",
       "1               7.8             0.880         0.00             2.6      0.098   \n",
       "3              11.2             0.280         0.56             1.9      0.075   \n",
       "4               7.4             0.700         0.00             1.9      0.076   \n",
       "5               7.4             0.660         0.00             1.8      0.075   \n",
       "11              7.5             0.500         0.36             6.1      0.071   \n",
       "...             ...               ...          ...             ...        ...   \n",
       "1580            7.4             0.350         0.33             2.4      0.068   \n",
       "1583            6.2             0.460         0.29             2.1      0.074   \n",
       "1589            6.6             0.725         0.20             7.8      0.073   \n",
       "1595            5.9             0.550         0.10             2.2      0.062   \n",
       "1596            6.3             0.510         0.13             2.3      0.076   \n",
       "\n",
       "      free sulfur dioxide  total sulfur dioxide  density    pH  sulphates  \\\n",
       "1                    25.0                  67.0  0.99680  3.20       0.68   \n",
       "3                    17.0                  60.0  0.99800  3.16       0.58   \n",
       "4                    11.0                  34.0  0.99780  3.51       0.56   \n",
       "5                    13.0                  40.0  0.99780  3.51       0.56   \n",
       "11                   17.0                 102.0  0.99780  3.35       0.80   \n",
       "...                   ...                   ...      ...   ...        ...   \n",
       "1580                  9.0                  26.0  0.99470  3.36       0.60   \n",
       "1583                 32.0                  98.0  0.99578  3.33       0.62   \n",
       "1589                 29.0                  79.0  0.99770  3.29       0.54   \n",
       "1595                 39.0                  51.0  0.99512  3.52       0.76   \n",
       "1596                 29.0                  40.0  0.99574  3.42       0.75   \n",
       "\n",
       "      alcohol  TARGET  \n",
       "1         9.8       5  \n",
       "3         9.8       6  \n",
       "4         9.4       5  \n",
       "5         9.4       5  \n",
       "11       10.5       5  \n",
       "...       ...     ...  \n",
       "1580     11.9       6  \n",
       "1583      9.8       5  \n",
       "1589      9.2       5  \n",
       "1595     11.2       6  \n",
       "1596     11.0       6  \n",
       "\n",
       "[473 rows x 12 columns]"
      ]
     },
     "execution_count": 22,
     "metadata": {},
     "output_type": "execute_result"
    }
   ],
   "source": [
    "test"
   ]
  },
  {
   "cell_type": "code",
   "execution_count": 5,
   "metadata": {},
   "outputs": [
    {
     "data": {
      "text/html": [
       "<div>\n",
       "<style scoped>\n",
       "    .dataframe tbody tr th:only-of-type {\n",
       "        vertical-align: middle;\n",
       "    }\n",
       "\n",
       "    .dataframe tbody tr th {\n",
       "        vertical-align: top;\n",
       "    }\n",
       "\n",
       "    .dataframe thead th {\n",
       "        text-align: right;\n",
       "    }\n",
       "</style>\n",
       "<table border=\"1\" class=\"dataframe\">\n",
       "  <thead>\n",
       "    <tr style=\"text-align: right;\">\n",
       "      <th></th>\n",
       "      <th>fixed acidity</th>\n",
       "      <th>volatile acidity</th>\n",
       "      <th>citric acid</th>\n",
       "      <th>residual sugar</th>\n",
       "      <th>chlorides</th>\n",
       "      <th>free sulfur dioxide</th>\n",
       "      <th>total sulfur dioxide</th>\n",
       "      <th>density</th>\n",
       "      <th>pH</th>\n",
       "      <th>sulphates</th>\n",
       "      <th>alcohol</th>\n",
       "      <th>TARGET</th>\n",
       "    </tr>\n",
       "  </thead>\n",
       "  <tbody>\n",
       "    <tr>\n",
       "      <th>0</th>\n",
       "      <td>7.4</td>\n",
       "      <td>0.70</td>\n",
       "      <td>0.00</td>\n",
       "      <td>1.9</td>\n",
       "      <td>0.076</td>\n",
       "      <td>11.0</td>\n",
       "      <td>34.0</td>\n",
       "      <td>0.9978</td>\n",
       "      <td>3.51</td>\n",
       "      <td>0.56</td>\n",
       "      <td>9.4</td>\n",
       "      <td>5</td>\n",
       "    </tr>\n",
       "    <tr>\n",
       "      <th>1</th>\n",
       "      <td>7.8</td>\n",
       "      <td>0.88</td>\n",
       "      <td>0.00</td>\n",
       "      <td>2.6</td>\n",
       "      <td>0.098</td>\n",
       "      <td>25.0</td>\n",
       "      <td>67.0</td>\n",
       "      <td>0.9968</td>\n",
       "      <td>3.20</td>\n",
       "      <td>0.68</td>\n",
       "      <td>9.8</td>\n",
       "      <td>5</td>\n",
       "    </tr>\n",
       "    <tr>\n",
       "      <th>2</th>\n",
       "      <td>7.8</td>\n",
       "      <td>0.76</td>\n",
       "      <td>0.04</td>\n",
       "      <td>2.3</td>\n",
       "      <td>0.092</td>\n",
       "      <td>15.0</td>\n",
       "      <td>54.0</td>\n",
       "      <td>0.9970</td>\n",
       "      <td>3.26</td>\n",
       "      <td>0.65</td>\n",
       "      <td>9.8</td>\n",
       "      <td>5</td>\n",
       "    </tr>\n",
       "    <tr>\n",
       "      <th>3</th>\n",
       "      <td>11.2</td>\n",
       "      <td>0.28</td>\n",
       "      <td>0.56</td>\n",
       "      <td>1.9</td>\n",
       "      <td>0.075</td>\n",
       "      <td>17.0</td>\n",
       "      <td>60.0</td>\n",
       "      <td>0.9980</td>\n",
       "      <td>3.16</td>\n",
       "      <td>0.58</td>\n",
       "      <td>9.8</td>\n",
       "      <td>6</td>\n",
       "    </tr>\n",
       "    <tr>\n",
       "      <th>4</th>\n",
       "      <td>7.4</td>\n",
       "      <td>0.70</td>\n",
       "      <td>0.00</td>\n",
       "      <td>1.9</td>\n",
       "      <td>0.076</td>\n",
       "      <td>11.0</td>\n",
       "      <td>34.0</td>\n",
       "      <td>0.9978</td>\n",
       "      <td>3.51</td>\n",
       "      <td>0.56</td>\n",
       "      <td>9.4</td>\n",
       "      <td>5</td>\n",
       "    </tr>\n",
       "  </tbody>\n",
       "</table>\n",
       "</div>"
      ],
      "text/plain": [
       "   fixed acidity  volatile acidity  citric acid  residual sugar  chlorides  \\\n",
       "0            7.4              0.70         0.00             1.9      0.076   \n",
       "1            7.8              0.88         0.00             2.6      0.098   \n",
       "2            7.8              0.76         0.04             2.3      0.092   \n",
       "3           11.2              0.28         0.56             1.9      0.075   \n",
       "4            7.4              0.70         0.00             1.9      0.076   \n",
       "\n",
       "   free sulfur dioxide  total sulfur dioxide  density    pH  sulphates  \\\n",
       "0                 11.0                  34.0   0.9978  3.51       0.56   \n",
       "1                 25.0                  67.0   0.9968  3.20       0.68   \n",
       "2                 15.0                  54.0   0.9970  3.26       0.65   \n",
       "3                 17.0                  60.0   0.9980  3.16       0.58   \n",
       "4                 11.0                  34.0   0.9978  3.51       0.56   \n",
       "\n",
       "   alcohol  TARGET  \n",
       "0      9.4       5  \n",
       "1      9.8       5  \n",
       "2      9.8       5  \n",
       "3      9.8       6  \n",
       "4      9.4       5  "
      ]
     },
     "execution_count": 5,
     "metadata": {},
     "output_type": "execute_result"
    }
   ],
   "source": [
    "df.head()"
   ]
  },
  {
   "cell_type": "code",
   "execution_count": 6,
   "metadata": {},
   "outputs": [
    {
     "name": "stdout",
     "output_type": "stream",
     "text": [
      "<class 'pandas.core.frame.DataFrame'>\n",
      "RangeIndex: 1599 entries, 0 to 1598\n",
      "Data columns (total 12 columns):\n",
      " #   Column                Non-Null Count  Dtype  \n",
      "---  ------                --------------  -----  \n",
      " 0   fixed acidity         1599 non-null   float64\n",
      " 1   volatile acidity      1599 non-null   float64\n",
      " 2   citric acid           1599 non-null   float64\n",
      " 3   residual sugar        1599 non-null   float64\n",
      " 4   chlorides             1599 non-null   float64\n",
      " 5   free sulfur dioxide   1599 non-null   float64\n",
      " 6   total sulfur dioxide  1599 non-null   float64\n",
      " 7   density               1599 non-null   float64\n",
      " 8   pH                    1599 non-null   float64\n",
      " 9   sulphates             1599 non-null   float64\n",
      " 10  alcohol               1599 non-null   float64\n",
      " 11  TARGET                1599 non-null   int64  \n",
      "dtypes: float64(11), int64(1)\n",
      "memory usage: 150.0 KB\n"
     ]
    }
   ],
   "source": [
    "df.info()"
   ]
  },
  {
   "cell_type": "code",
   "execution_count": 7,
   "metadata": {},
   "outputs": [
    {
     "data": {
      "text/html": [
       "<div>\n",
       "<style scoped>\n",
       "    .dataframe tbody tr th:only-of-type {\n",
       "        vertical-align: middle;\n",
       "    }\n",
       "\n",
       "    .dataframe tbody tr th {\n",
       "        vertical-align: top;\n",
       "    }\n",
       "\n",
       "    .dataframe thead th {\n",
       "        text-align: right;\n",
       "    }\n",
       "</style>\n",
       "<table border=\"1\" class=\"dataframe\">\n",
       "  <thead>\n",
       "    <tr style=\"text-align: right;\">\n",
       "      <th></th>\n",
       "      <th>count</th>\n",
       "      <th>mean</th>\n",
       "      <th>std</th>\n",
       "      <th>min</th>\n",
       "      <th>25%</th>\n",
       "      <th>50%</th>\n",
       "      <th>75%</th>\n",
       "      <th>max</th>\n",
       "    </tr>\n",
       "  </thead>\n",
       "  <tbody>\n",
       "    <tr>\n",
       "      <th>fixed acidity</th>\n",
       "      <td>1599.0</td>\n",
       "      <td>8.319637</td>\n",
       "      <td>1.741096</td>\n",
       "      <td>4.60000</td>\n",
       "      <td>7.1000</td>\n",
       "      <td>7.90000</td>\n",
       "      <td>9.200000</td>\n",
       "      <td>15.90000</td>\n",
       "    </tr>\n",
       "    <tr>\n",
       "      <th>volatile acidity</th>\n",
       "      <td>1599.0</td>\n",
       "      <td>0.527821</td>\n",
       "      <td>0.179060</td>\n",
       "      <td>0.12000</td>\n",
       "      <td>0.3900</td>\n",
       "      <td>0.52000</td>\n",
       "      <td>0.640000</td>\n",
       "      <td>1.58000</td>\n",
       "    </tr>\n",
       "    <tr>\n",
       "      <th>citric acid</th>\n",
       "      <td>1599.0</td>\n",
       "      <td>0.270976</td>\n",
       "      <td>0.194801</td>\n",
       "      <td>0.00000</td>\n",
       "      <td>0.0900</td>\n",
       "      <td>0.26000</td>\n",
       "      <td>0.420000</td>\n",
       "      <td>1.00000</td>\n",
       "    </tr>\n",
       "    <tr>\n",
       "      <th>residual sugar</th>\n",
       "      <td>1599.0</td>\n",
       "      <td>2.538806</td>\n",
       "      <td>1.409928</td>\n",
       "      <td>0.90000</td>\n",
       "      <td>1.9000</td>\n",
       "      <td>2.20000</td>\n",
       "      <td>2.600000</td>\n",
       "      <td>15.50000</td>\n",
       "    </tr>\n",
       "    <tr>\n",
       "      <th>chlorides</th>\n",
       "      <td>1599.0</td>\n",
       "      <td>0.087467</td>\n",
       "      <td>0.047065</td>\n",
       "      <td>0.01200</td>\n",
       "      <td>0.0700</td>\n",
       "      <td>0.07900</td>\n",
       "      <td>0.090000</td>\n",
       "      <td>0.61100</td>\n",
       "    </tr>\n",
       "    <tr>\n",
       "      <th>free sulfur dioxide</th>\n",
       "      <td>1599.0</td>\n",
       "      <td>15.874922</td>\n",
       "      <td>10.460157</td>\n",
       "      <td>1.00000</td>\n",
       "      <td>7.0000</td>\n",
       "      <td>14.00000</td>\n",
       "      <td>21.000000</td>\n",
       "      <td>72.00000</td>\n",
       "    </tr>\n",
       "    <tr>\n",
       "      <th>total sulfur dioxide</th>\n",
       "      <td>1599.0</td>\n",
       "      <td>46.467792</td>\n",
       "      <td>32.895324</td>\n",
       "      <td>6.00000</td>\n",
       "      <td>22.0000</td>\n",
       "      <td>38.00000</td>\n",
       "      <td>62.000000</td>\n",
       "      <td>289.00000</td>\n",
       "    </tr>\n",
       "    <tr>\n",
       "      <th>density</th>\n",
       "      <td>1599.0</td>\n",
       "      <td>0.996747</td>\n",
       "      <td>0.001887</td>\n",
       "      <td>0.99007</td>\n",
       "      <td>0.9956</td>\n",
       "      <td>0.99675</td>\n",
       "      <td>0.997835</td>\n",
       "      <td>1.00369</td>\n",
       "    </tr>\n",
       "    <tr>\n",
       "      <th>pH</th>\n",
       "      <td>1599.0</td>\n",
       "      <td>3.311113</td>\n",
       "      <td>0.154386</td>\n",
       "      <td>2.74000</td>\n",
       "      <td>3.2100</td>\n",
       "      <td>3.31000</td>\n",
       "      <td>3.400000</td>\n",
       "      <td>4.01000</td>\n",
       "    </tr>\n",
       "    <tr>\n",
       "      <th>sulphates</th>\n",
       "      <td>1599.0</td>\n",
       "      <td>0.658149</td>\n",
       "      <td>0.169507</td>\n",
       "      <td>0.33000</td>\n",
       "      <td>0.5500</td>\n",
       "      <td>0.62000</td>\n",
       "      <td>0.730000</td>\n",
       "      <td>2.00000</td>\n",
       "    </tr>\n",
       "    <tr>\n",
       "      <th>alcohol</th>\n",
       "      <td>1599.0</td>\n",
       "      <td>10.422983</td>\n",
       "      <td>1.065668</td>\n",
       "      <td>8.40000</td>\n",
       "      <td>9.5000</td>\n",
       "      <td>10.20000</td>\n",
       "      <td>11.100000</td>\n",
       "      <td>14.90000</td>\n",
       "    </tr>\n",
       "    <tr>\n",
       "      <th>TARGET</th>\n",
       "      <td>1599.0</td>\n",
       "      <td>5.636023</td>\n",
       "      <td>0.807569</td>\n",
       "      <td>3.00000</td>\n",
       "      <td>5.0000</td>\n",
       "      <td>6.00000</td>\n",
       "      <td>6.000000</td>\n",
       "      <td>8.00000</td>\n",
       "    </tr>\n",
       "  </tbody>\n",
       "</table>\n",
       "</div>"
      ],
      "text/plain": [
       "                       count       mean        std      min      25%  \\\n",
       "fixed acidity         1599.0   8.319637   1.741096  4.60000   7.1000   \n",
       "volatile acidity      1599.0   0.527821   0.179060  0.12000   0.3900   \n",
       "citric acid           1599.0   0.270976   0.194801  0.00000   0.0900   \n",
       "residual sugar        1599.0   2.538806   1.409928  0.90000   1.9000   \n",
       "chlorides             1599.0   0.087467   0.047065  0.01200   0.0700   \n",
       "free sulfur dioxide   1599.0  15.874922  10.460157  1.00000   7.0000   \n",
       "total sulfur dioxide  1599.0  46.467792  32.895324  6.00000  22.0000   \n",
       "density               1599.0   0.996747   0.001887  0.99007   0.9956   \n",
       "pH                    1599.0   3.311113   0.154386  2.74000   3.2100   \n",
       "sulphates             1599.0   0.658149   0.169507  0.33000   0.5500   \n",
       "alcohol               1599.0  10.422983   1.065668  8.40000   9.5000   \n",
       "TARGET                1599.0   5.636023   0.807569  3.00000   5.0000   \n",
       "\n",
       "                           50%        75%        max  \n",
       "fixed acidity          7.90000   9.200000   15.90000  \n",
       "volatile acidity       0.52000   0.640000    1.58000  \n",
       "citric acid            0.26000   0.420000    1.00000  \n",
       "residual sugar         2.20000   2.600000   15.50000  \n",
       "chlorides              0.07900   0.090000    0.61100  \n",
       "free sulfur dioxide   14.00000  21.000000   72.00000  \n",
       "total sulfur dioxide  38.00000  62.000000  289.00000  \n",
       "density                0.99675   0.997835    1.00369  \n",
       "pH                     3.31000   3.400000    4.01000  \n",
       "sulphates              0.62000   0.730000    2.00000  \n",
       "alcohol               10.20000  11.100000   14.90000  \n",
       "TARGET                 6.00000   6.000000    8.00000  "
      ]
     },
     "execution_count": 7,
     "metadata": {},
     "output_type": "execute_result"
    }
   ],
   "source": [
    "df.describe().T"
   ]
  },
  {
   "cell_type": "code",
   "execution_count": 8,
   "metadata": {},
   "outputs": [
    {
     "data": {
      "text/plain": [
       "Index(['fixed acidity', 'volatile acidity', 'citric acid', 'residual sugar',\n",
       "       'chlorides', 'free sulfur dioxide', 'total sulfur dioxide', 'density',\n",
       "       'pH', 'sulphates', 'alcohol', 'TARGET'],\n",
       "      dtype='object')"
      ]
     },
     "execution_count": 8,
     "metadata": {},
     "output_type": "execute_result"
    }
   ],
   "source": [
    "cols = df.columns\n",
    "cols"
   ]
  },
  {
   "cell_type": "code",
   "execution_count": 9,
   "metadata": {},
   "outputs": [
    {
     "data": {
      "text/plain": [
       "['fixed_acidity',\n",
       " 'volatile_acidity',\n",
       " 'citric_acid',\n",
       " 'residual_sugar',\n",
       " 'chlorides',\n",
       " 'free_sulfur_dioxide',\n",
       " 'total_sulfur_dioxide',\n",
       " 'density',\n",
       " 'pH',\n",
       " 'sulphates',\n",
       " 'alcohol',\n",
       " 'TARGET']"
      ]
     },
     "execution_count": 9,
     "metadata": {},
     "output_type": "execute_result"
    }
   ],
   "source": [
    "cols = [col.replace(\" \", \"_\") for col in cols]\n",
    "cols"
   ]
  },
  {
   "cell_type": "code",
   "execution_count": 10,
   "metadata": {},
   "outputs": [
    {
     "data": {
      "text/html": [
       "<div>\n",
       "<style scoped>\n",
       "    .dataframe tbody tr th:only-of-type {\n",
       "        vertical-align: middle;\n",
       "    }\n",
       "\n",
       "    .dataframe tbody tr th {\n",
       "        vertical-align: top;\n",
       "    }\n",
       "\n",
       "    .dataframe thead th {\n",
       "        text-align: right;\n",
       "    }\n",
       "</style>\n",
       "<table border=\"1\" class=\"dataframe\">\n",
       "  <thead>\n",
       "    <tr style=\"text-align: right;\">\n",
       "      <th></th>\n",
       "      <th>fixed_acidity</th>\n",
       "      <th>volatile_acidity</th>\n",
       "      <th>citric_acid</th>\n",
       "      <th>residual_sugar</th>\n",
       "      <th>chlorides</th>\n",
       "      <th>free_sulfur_dioxide</th>\n",
       "      <th>total_sulfur_dioxide</th>\n",
       "      <th>density</th>\n",
       "      <th>pH</th>\n",
       "      <th>sulphates</th>\n",
       "      <th>alcohol</th>\n",
       "      <th>TARGET</th>\n",
       "    </tr>\n",
       "  </thead>\n",
       "  <tbody>\n",
       "    <tr>\n",
       "      <th>0</th>\n",
       "      <td>7.4</td>\n",
       "      <td>0.70</td>\n",
       "      <td>0.00</td>\n",
       "      <td>1.9</td>\n",
       "      <td>0.076</td>\n",
       "      <td>11.0</td>\n",
       "      <td>34.0</td>\n",
       "      <td>0.9978</td>\n",
       "      <td>3.51</td>\n",
       "      <td>0.56</td>\n",
       "      <td>9.4</td>\n",
       "      <td>5</td>\n",
       "    </tr>\n",
       "    <tr>\n",
       "      <th>1</th>\n",
       "      <td>7.8</td>\n",
       "      <td>0.88</td>\n",
       "      <td>0.00</td>\n",
       "      <td>2.6</td>\n",
       "      <td>0.098</td>\n",
       "      <td>25.0</td>\n",
       "      <td>67.0</td>\n",
       "      <td>0.9968</td>\n",
       "      <td>3.20</td>\n",
       "      <td>0.68</td>\n",
       "      <td>9.8</td>\n",
       "      <td>5</td>\n",
       "    </tr>\n",
       "    <tr>\n",
       "      <th>2</th>\n",
       "      <td>7.8</td>\n",
       "      <td>0.76</td>\n",
       "      <td>0.04</td>\n",
       "      <td>2.3</td>\n",
       "      <td>0.092</td>\n",
       "      <td>15.0</td>\n",
       "      <td>54.0</td>\n",
       "      <td>0.9970</td>\n",
       "      <td>3.26</td>\n",
       "      <td>0.65</td>\n",
       "      <td>9.8</td>\n",
       "      <td>5</td>\n",
       "    </tr>\n",
       "    <tr>\n",
       "      <th>3</th>\n",
       "      <td>11.2</td>\n",
       "      <td>0.28</td>\n",
       "      <td>0.56</td>\n",
       "      <td>1.9</td>\n",
       "      <td>0.075</td>\n",
       "      <td>17.0</td>\n",
       "      <td>60.0</td>\n",
       "      <td>0.9980</td>\n",
       "      <td>3.16</td>\n",
       "      <td>0.58</td>\n",
       "      <td>9.8</td>\n",
       "      <td>6</td>\n",
       "    </tr>\n",
       "    <tr>\n",
       "      <th>4</th>\n",
       "      <td>7.4</td>\n",
       "      <td>0.70</td>\n",
       "      <td>0.00</td>\n",
       "      <td>1.9</td>\n",
       "      <td>0.076</td>\n",
       "      <td>11.0</td>\n",
       "      <td>34.0</td>\n",
       "      <td>0.9978</td>\n",
       "      <td>3.51</td>\n",
       "      <td>0.56</td>\n",
       "      <td>9.4</td>\n",
       "      <td>5</td>\n",
       "    </tr>\n",
       "  </tbody>\n",
       "</table>\n",
       "</div>"
      ],
      "text/plain": [
       "   fixed_acidity  volatile_acidity  citric_acid  residual_sugar  chlorides  \\\n",
       "0            7.4              0.70         0.00             1.9      0.076   \n",
       "1            7.8              0.88         0.00             2.6      0.098   \n",
       "2            7.8              0.76         0.04             2.3      0.092   \n",
       "3           11.2              0.28         0.56             1.9      0.075   \n",
       "4            7.4              0.70         0.00             1.9      0.076   \n",
       "\n",
       "   free_sulfur_dioxide  total_sulfur_dioxide  density    pH  sulphates  \\\n",
       "0                 11.0                  34.0   0.9978  3.51       0.56   \n",
       "1                 25.0                  67.0   0.9968  3.20       0.68   \n",
       "2                 15.0                  54.0   0.9970  3.26       0.65   \n",
       "3                 17.0                  60.0   0.9980  3.16       0.58   \n",
       "4                 11.0                  34.0   0.9978  3.51       0.56   \n",
       "\n",
       "   alcohol  TARGET  \n",
       "0      9.4       5  \n",
       "1      9.8       5  \n",
       "2      9.8       5  \n",
       "3      9.8       6  \n",
       "4      9.4       5  "
      ]
     },
     "execution_count": 10,
     "metadata": {},
     "output_type": "execute_result"
    }
   ],
   "source": [
    "df.columns = cols\n",
    "df.head()"
   ]
  },
  {
   "cell_type": "code",
   "execution_count": 11,
   "metadata": {},
   "outputs": [
    {
     "data": {
      "text/plain": [
       "12"
      ]
     },
     "execution_count": 11,
     "metadata": {},
     "output_type": "execute_result"
    }
   ],
   "source": [
    "len(df.columns)"
   ]
  },
  {
   "cell_type": "code",
   "execution_count": 12,
   "metadata": {},
   "outputs": [],
   "source": [
    "df.to_csv(\"winequality_processed.csv\", index=False, sep=\",\")"
   ]
  },
  {
   "cell_type": "markdown",
   "metadata": {},
   "source": [
    "# 1. Data analysis"
   ]
  },
  {
   "cell_type": "markdown",
   "metadata": {},
   "source": [
    "## 1.1 Target distribution"
   ]
  },
  {
   "cell_type": "code",
   "execution_count": 13,
   "metadata": {},
   "outputs": [
    {
     "data": {
      "text/plain": [
       "array([3, 4, 5, 6, 7, 8], dtype=int64)"
      ]
     },
     "execution_count": 13,
     "metadata": {},
     "output_type": "execute_result"
    }
   ],
   "source": [
    "df[\"TARGET\"].sort_values().unique()"
   ]
  },
  {
   "cell_type": "code",
   "execution_count": 14,
   "metadata": {},
   "outputs": [
    {
     "data": {
      "text/plain": [
       "<AxesSubplot:>"
      ]
     },
     "execution_count": 14,
     "metadata": {},
     "output_type": "execute_result"
    },
    {
     "data": {
      "image/png": "[encoded data removed]",
      "text/plain": [
       "<Figure size 432x288 with 1 Axes>"
      ]
     },
     "metadata": {
      "needs_background": "light"
     },
     "output_type": "display_data"
    }
   ],
   "source": [
    "df[\"TARGET\"].hist(density=True)"
   ]
  },
  {
   "cell_type": "markdown",
   "metadata": {},
   "source": [
    "Gaussian"
   ]
  },
  {
   "cell_type": "markdown",
   "metadata": {},
   "source": [
    "## 1.2 Identify Categorical"
   ]
  },
  {
   "cell_type": "code",
   "execution_count": 15,
   "metadata": {},
   "outputs": [
    {
     "data": {
      "text/plain": [
       "0"
      ]
     },
     "execution_count": 15,
     "metadata": {},
     "output_type": "execute_result"
    }
   ],
   "source": [
    "cat_vars = [var for var in df.columns if df[var].dtype == 'O']\n",
    "len(cat_vars)"
   ]
  },
  {
   "cell_type": "markdown",
   "metadata": {},
   "source": [
    "## 1.3 Identify Numericals"
   ]
  },
  {
   "cell_type": "code",
   "execution_count": 16,
   "metadata": {},
   "outputs": [
    {
     "data": {
      "text/plain": [
       "11"
      ]
     },
     "execution_count": 16,
     "metadata": {},
     "output_type": "execute_result"
    }
   ],
   "source": [
    "num_vars = [var for var in df.columns if var not in cat_vars and var != \"TARGET\"]\n",
    "len(num_vars)"
   ]
  },
  {
   "cell_type": "markdown",
   "metadata": {},
   "source": [
    "Only numerical vars in this dataset"
   ]
  },
  {
   "cell_type": "markdown",
   "metadata": {},
   "source": [
    "## 1.4 Check for missing values"
   ]
  },
  {
   "cell_type": "code",
   "execution_count": 17,
   "metadata": {},
   "outputs": [
    {
     "data": {
      "text/plain": [
       "fixed_acidity           0\n",
       "volatile_acidity        0\n",
       "citric_acid             0\n",
       "residual_sugar          0\n",
       "chlorides               0\n",
       "free_sulfur_dioxide     0\n",
       "total_sulfur_dioxide    0\n",
       "density                 0\n",
       "pH                      0\n",
       "sulphates               0\n",
       "alcohol                 0\n",
       "TARGET                  0\n",
       "dtype: int64"
      ]
     },
     "execution_count": 17,
     "metadata": {},
     "output_type": "execute_result"
    }
   ],
   "source": [
    "df.isnull().sum()"
   ]
  },
  {
   "cell_type": "markdown",
   "metadata": {},
   "source": [
    "no null values"
   ]
  },
  {
   "cell_type": "markdown",
   "metadata": {},
   "source": [
    "## 1.5 Visualize variables"
   ]
  },
  {
   "cell_type": "code",
   "execution_count": 18,
   "metadata": {},
   "outputs": [
    {
     "data": {
      "image/png": "[encoded data removed]",
      "text/plain": [
       "<Figure size 1152x720 with 12 Axes>"
      ]
     },
     "metadata": {
      "needs_background": "light"
     },
     "output_type": "display_data"
    }
   ],
   "source": [
    "df.hist(bins=10, figsize=(16,10))\n",
    "plt.show()"
   ]
  },
  {
   "cell_type": "code",
   "execution_count": 19,
   "metadata": {},
   "outputs": [
    {
     "data": {
      "text/plain": [
       "<AxesSubplot:xlabel='TARGET', ylabel='count'>"
      ]
     },
     "execution_count": 19,
     "metadata": {},
     "output_type": "execute_result"
    },
    {
     "data": {
      "image/png": "[encoded data removed]",
      "text/plain": [
       "<Figure size 432x288 with 1 Axes>"
      ]
     },
     "metadata": {
      "needs_background": "light"
     },
     "output_type": "display_data"
    }
   ],
   "source": [
    "sns.countplot(data=df, x=\"TARGET\")"
   ]
  },
  {
   "cell_type": "markdown",
   "metadata": {},
   "source": [
    "Most samples have quality 5,6,7"
   ]
  },
  {
   "cell_type": "code",
   "execution_count": 20,
   "metadata": {},
   "outputs": [
    {
     "data": {
      "text/plain": [
       "TARGET                  1.000000\n",
       "alcohol                 0.476166\n",
       "sulphates               0.251397\n",
       "citric_acid             0.226373\n",
       "fixed_acidity           0.124052\n",
       "residual_sugar          0.013732\n",
       "free_sulfur_dioxide    -0.050656\n",
       "pH                     -0.057731\n",
       "chlorides              -0.128907\n",
       "density                -0.174919\n",
       "total_sulfur_dioxide   -0.185100\n",
       "volatile_acidity       -0.390558\n",
       "Name: TARGET, dtype: float64"
      ]
     },
     "execution_count": 20,
     "metadata": {},
     "output_type": "execute_result"
    }
   ],
   "source": [
    "corr = df.corr()[\"TARGET\"].sort_values(ascending=False)\n",
    "corr"
   ]
  },
  {
   "cell_type": "markdown",
   "metadata": {},
   "source": [
    "Best correlation to the target: alcohol, sulphates, citric_acid, fixed_acidity, residual_sugar"
   ]
  },
  {
   "cell_type": "code",
   "execution_count": 21,
   "metadata": {},
   "outputs": [
    {
     "data": {
      "text/plain": [
       "<AxesSubplot:>"
      ]
     },
     "execution_count": 21,
     "metadata": {},
     "output_type": "execute_result"
    },
    {
     "data": {
      "image/png": "[encoded data removed]",
      "text/plain": [
       "<Figure size 432x288 with 1 Axes>"
      ]
     },
     "metadata": {
      "needs_background": "light"
     },
     "output_type": "display_data"
    }
   ],
   "source": [
    "corr.plot(kind=\"bar\")"
   ]
  },
  {
   "cell_type": "code",
   "execution_count": 22,
   "metadata": {},
   "outputs": [
    {
     "data": {
      "text/plain": [
       "<AxesSubplot:>"
      ]
     },
     "execution_count": 22,
     "metadata": {},
     "output_type": "execute_result"
    },
    {
     "data": {
      "image/png": "[encoded data removed]",
      "text/plain": [
       "<Figure size 720x432 with 2 Axes>"
      ]
     },
     "metadata": {
      "needs_background": "light"
     },
     "output_type": "display_data"
    }
   ],
   "source": [
    "plt.figure(figsize=(10,6))\n",
    "sns.heatmap(data=df.corr(), annot=True)"
   ]
  },
  {
   "cell_type": "code",
   "execution_count": 23,
   "metadata": {},
   "outputs": [
    {
     "data": {
      "text/plain": [
       "TARGET                   True\n",
       "alcohol                  True\n",
       "sulphates                True\n",
       "citric_acid              True\n",
       "fixed_acidity           False\n",
       "residual_sugar          False\n",
       "free_sulfur_dioxide     False\n",
       "pH                      False\n",
       "chlorides               False\n",
       "density                 False\n",
       "total_sulfur_dioxide    False\n",
       "volatile_acidity         True\n",
       "Name: TARGET, dtype: bool"
      ]
     },
     "execution_count": 23,
     "metadata": {},
     "output_type": "execute_result"
    }
   ],
   "source": [
    "abs(corr) > 0.2"
   ]
  },
  {
   "cell_type": "markdown",
   "metadata": {},
   "source": [
    "Best variables with corr threshold 0.2"
   ]
  },
  {
   "cell_type": "code",
   "execution_count": 24,
   "metadata": {},
   "outputs": [
    {
     "data": {
      "text/plain": [
       "<AxesSubplot:xlabel='TARGET', ylabel='alcohol'>"
      ]
     },
     "execution_count": 24,
     "metadata": {},
     "output_type": "execute_result"
    },
    {
     "data": {
      "image/png": "[encoded data removed]",
      "text/plain": [
       "<Figure size 432x288 with 1 Axes>"
      ]
     },
     "metadata": {
      "needs_background": "light"
     },
     "output_type": "display_data"
    }
   ],
   "source": [
    "sns.barplot(data=df, x=\"TARGET\", y=\"alcohol\")"
   ]
  },
  {
   "cell_type": "markdown",
   "metadata": {},
   "source": [
    "The more alcohol, the better the rating (quality)"
   ]
  },
  {
   "cell_type": "code",
   "execution_count": 25,
   "metadata": {},
   "outputs": [
    {
     "data": {
      "text/plain": [
       "<AxesSubplot:xlabel='TARGET', ylabel='sulphates'>"
      ]
     },
     "execution_count": 25,
     "metadata": {},
     "output_type": "execute_result"
    },
    {
     "data": {
      "image/png": "[encoded data removed]",
      "text/plain": [
       "<Figure size 432x288 with 1 Axes>"
      ]
     },
     "metadata": {
      "needs_background": "light"
     },
     "output_type": "display_data"
    }
   ],
   "source": [
    "sns.barplot(data=df, x=\"TARGET\", y=\"sulphates\")"
   ]
  },
  {
   "cell_type": "code",
   "execution_count": 26,
   "metadata": {},
   "outputs": [
    {
     "data": {
      "text/plain": [
       "<AxesSubplot:xlabel='TARGET', ylabel='citric_acid'>"
      ]
     },
     "execution_count": 26,
     "metadata": {},
     "output_type": "execute_result"
    },
    {
     "data": {
      "image/png": "[encoded data removed]",
      "text/plain": [
       "<Figure size 432x288 with 1 Axes>"
      ]
     },
     "metadata": {
      "needs_background": "light"
     },
     "output_type": "display_data"
    }
   ],
   "source": [
    "sns.barplot(data=df, x=\"TARGET\", y=\"citric_acid\")"
   ]
  },
  {
   "cell_type": "markdown",
   "metadata": {},
   "source": [
    "For all variables: the more the better the quality"
   ]
  },
  {
   "cell_type": "code",
   "execution_count": 27,
   "metadata": {},
   "outputs": [
    {
     "data": {
      "text/plain": [
       "<AxesSubplot:xlabel='TARGET', ylabel='volatile_acidity'>"
      ]
     },
     "execution_count": 27,
     "metadata": {},
     "output_type": "execute_result"
    },
    {
     "data": {
      "image/png": "[encoded data removed]",
      "text/plain": [
       "<Figure size 432x288 with 1 Axes>"
      ]
     },
     "metadata": {
      "needs_background": "light"
     },
     "output_type": "display_data"
    }
   ],
   "source": [
    "sns.barplot(data=df, x=\"TARGET\", y=\"volatile_acidity\")"
   ]
  },
  {
   "cell_type": "markdown",
   "metadata": {},
   "source": [
    "Opposite for volatile acidity"
   ]
  },
  {
   "cell_type": "markdown",
   "metadata": {},
   "source": [
    "# 2. Feature Engineering"
   ]
  },
  {
   "cell_type": "code",
   "execution_count": 28,
   "metadata": {},
   "outputs": [],
   "source": [
    "X = df.drop(\"TARGET\", axis=1)\n",
    "y = df[\"TARGET\"]"
   ]
  },
  {
   "cell_type": "code",
   "execution_count": 29,
   "metadata": {},
   "outputs": [],
   "source": [
    "X_train, X_test, y_train, y_test = train_test_split(X, y, train_size=0.3, random_state=101)"
   ]
  },
  {
   "cell_type": "markdown",
   "metadata": {},
   "source": [
    "## 2.1. Scaling"
   ]
  },
  {
   "cell_type": "code",
   "execution_count": 30,
   "metadata": {},
   "outputs": [
    {
     "data": {
      "text/plain": [
       "MinMaxScaler()"
      ]
     },
     "execution_count": 30,
     "metadata": {},
     "output_type": "execute_result"
    }
   ],
   "source": [
    "scaler = MinMaxScaler()\n",
    "scaler.fit(X_train)"
   ]
  },
  {
   "cell_type": "code",
   "execution_count": 31,
   "metadata": {},
   "outputs": [],
   "source": [
    "X_train_scaled = scaler.transform(X_train)\n",
    "X_test_scaled = scaler.transform(X_test)"
   ]
  },
  {
   "cell_type": "code",
   "execution_count": 32,
   "metadata": {},
   "outputs": [],
   "source": [
    "X_train_scaled = pd.DataFrame(X_train_scaled, columns=X_train.columns)\n",
    "X_test_scaled = pd.DataFrame(X_test_scaled, columns=X_test.columns)"
   ]
  },
  {
   "cell_type": "code",
   "execution_count": 33,
   "metadata": {},
   "outputs": [
    {
     "data": {
      "text/plain": [
       "['minmax_scaler_wine.joblib']"
      ]
     },
     "execution_count": 33,
     "metadata": {},
     "output_type": "execute_result"
    }
   ],
   "source": [
    "joblib.dump(scaler, \"minmax_scaler_wine.joblib\")"
   ]
  },
  {
   "cell_type": "code",
   "execution_count": 34,
   "metadata": {},
   "outputs": [],
   "source": [
    "X_train.to_csv(\"X_train.csv\", index=False, sep=\",\")\n",
    "X_test.to_csv(\"X_test.csv\", index=False, sep=\",\")\n",
    "X_train_scaled.to_csv(\"X_train_scaled.csv\", index=False, sep=\",\")\n",
    "X_test_scaled.to_csv(\"X_test_scaled.csv\", index=False, sep=\",\")\n",
    "y_train.to_csv(\"y_train.csv\", index=False, sep=\",\")\n",
    "y_test.to_csv(\"y_test.csv\", index=False, sep=\",\")"
   ]
  },
  {
   "cell_type": "markdown",
   "metadata": {},
   "source": [
    "# 3. Feature selection"
   ]
  },
  {
   "cell_type": "code",
   "execution_count": 35,
   "metadata": {},
   "outputs": [
    {
     "data": {
      "text/html": [
       "<div>\n",
       "<style scoped>\n",
       "    .dataframe tbody tr th:only-of-type {\n",
       "        vertical-align: middle;\n",
       "    }\n",
       "\n",
       "    .dataframe tbody tr th {\n",
       "        vertical-align: top;\n",
       "    }\n",
       "\n",
       "    .dataframe thead th {\n",
       "        text-align: right;\n",
       "    }\n",
       "</style>\n",
       "<table border=\"1\" class=\"dataframe\">\n",
       "  <thead>\n",
       "    <tr style=\"text-align: right;\">\n",
       "      <th></th>\n",
       "      <th>index</th>\n",
       "    </tr>\n",
       "  </thead>\n",
       "  <tbody>\n",
       "    <tr>\n",
       "      <th>1</th>\n",
       "      <td>alcohol</td>\n",
       "    </tr>\n",
       "    <tr>\n",
       "      <th>2</th>\n",
       "      <td>sulphates</td>\n",
       "    </tr>\n",
       "    <tr>\n",
       "      <th>3</th>\n",
       "      <td>citric_acid</td>\n",
       "    </tr>\n",
       "    <tr>\n",
       "      <th>4</th>\n",
       "      <td>volatile_acidity</td>\n",
       "    </tr>\n",
       "  </tbody>\n",
       "</table>\n",
       "</div>"
      ],
      "text/plain": [
       "              index\n",
       "1           alcohol\n",
       "2         sulphates\n",
       "3       citric_acid\n",
       "4  volatile_acidity"
      ]
     },
     "execution_count": 35,
     "metadata": {},
     "output_type": "execute_result"
    }
   ],
   "source": [
    "filtered_features = corr.apply(lambda x: abs(x)>0.2)\n",
    "selected_features = corr[filtered_features]\n",
    "selected_features = pd.DataFrame(selected_features).reset_index().drop(\"TARGET\", axis=1).drop(0, axis=0)\n",
    "selected_features.head()"
   ]
  },
  {
   "cell_type": "markdown",
   "metadata": {},
   "source": [
    "The same as above"
   ]
  },
  {
   "cell_type": "code",
   "execution_count": 36,
   "metadata": {},
   "outputs": [],
   "source": [
    "selected_features.to_csv(\"selected_features.csv\", index=False, sep=\",\")"
   ]
  },
  {
   "cell_type": "code",
   "execution_count": 37,
   "metadata": {},
   "outputs": [
    {
     "data": {
      "text/html": [
       "<div>\n",
       "<style scoped>\n",
       "    .dataframe tbody tr th:only-of-type {\n",
       "        vertical-align: middle;\n",
       "    }\n",
       "\n",
       "    .dataframe tbody tr th {\n",
       "        vertical-align: top;\n",
       "    }\n",
       "\n",
       "    .dataframe thead th {\n",
       "        text-align: right;\n",
       "    }\n",
       "</style>\n",
       "<table border=\"1\" class=\"dataframe\">\n",
       "  <thead>\n",
       "    <tr style=\"text-align: right;\">\n",
       "      <th></th>\n",
       "      <th>alcohol</th>\n",
       "      <th>sulphates</th>\n",
       "      <th>citric_acid</th>\n",
       "      <th>volatile_acidity</th>\n",
       "    </tr>\n",
       "  </thead>\n",
       "  <tbody>\n",
       "    <tr>\n",
       "      <th>0</th>\n",
       "      <td>0.226415</td>\n",
       "      <td>0.182390</td>\n",
       "      <td>0.166667</td>\n",
       "      <td>0.280822</td>\n",
       "    </tr>\n",
       "    <tr>\n",
       "      <th>1</th>\n",
       "      <td>0.735849</td>\n",
       "      <td>0.270440</td>\n",
       "      <td>0.576923</td>\n",
       "      <td>0.136986</td>\n",
       "    </tr>\n",
       "    <tr>\n",
       "      <th>2</th>\n",
       "      <td>0.396226</td>\n",
       "      <td>0.050314</td>\n",
       "      <td>0.384615</td>\n",
       "      <td>0.095890</td>\n",
       "    </tr>\n",
       "    <tr>\n",
       "      <th>3</th>\n",
       "      <td>0.415094</td>\n",
       "      <td>0.408805</td>\n",
       "      <td>0.602564</td>\n",
       "      <td>0.095890</td>\n",
       "    </tr>\n",
       "    <tr>\n",
       "      <th>4</th>\n",
       "      <td>0.188679</td>\n",
       "      <td>0.132075</td>\n",
       "      <td>0.435897</td>\n",
       "      <td>0.260274</td>\n",
       "    </tr>\n",
       "  </tbody>\n",
       "</table>\n",
       "</div>"
      ],
      "text/plain": [
       "    alcohol  sulphates  citric_acid  volatile_acidity\n",
       "0  0.226415   0.182390     0.166667          0.280822\n",
       "1  0.735849   0.270440     0.576923          0.136986\n",
       "2  0.396226   0.050314     0.384615          0.095890\n",
       "3  0.415094   0.408805     0.602564          0.095890\n",
       "4  0.188679   0.132075     0.435897          0.260274"
      ]
     },
     "execution_count": 37,
     "metadata": {},
     "output_type": "execute_result"
    }
   ],
   "source": [
    "X_train_scaled = X_train_scaled[selected_features.values.flatten().tolist()]\n",
    "X_train_scaled.head()"
   ]
  },
  {
   "cell_type": "code",
   "execution_count": 38,
   "metadata": {},
   "outputs": [
    {
     "data": {
      "text/html": [
       "<div>\n",
       "<style scoped>\n",
       "    .dataframe tbody tr th:only-of-type {\n",
       "        vertical-align: middle;\n",
       "    }\n",
       "\n",
       "    .dataframe tbody tr th {\n",
       "        vertical-align: top;\n",
       "    }\n",
       "\n",
       "    .dataframe thead th {\n",
       "        text-align: right;\n",
       "    }\n",
       "</style>\n",
       "<table border=\"1\" class=\"dataframe\">\n",
       "  <thead>\n",
       "    <tr style=\"text-align: right;\">\n",
       "      <th></th>\n",
       "      <th>alcohol</th>\n",
       "      <th>sulphates</th>\n",
       "      <th>citric_acid</th>\n",
       "      <th>volatile_acidity</th>\n",
       "    </tr>\n",
       "  </thead>\n",
       "  <tbody>\n",
       "    <tr>\n",
       "      <th>0</th>\n",
       "      <td>0.245283</td>\n",
       "      <td>0.088050</td>\n",
       "      <td>0.128205</td>\n",
       "      <td>0.452055</td>\n",
       "    </tr>\n",
       "    <tr>\n",
       "      <th>1</th>\n",
       "      <td>0.169811</td>\n",
       "      <td>0.088050</td>\n",
       "      <td>0.051282</td>\n",
       "      <td>0.414384</td>\n",
       "    </tr>\n",
       "    <tr>\n",
       "      <th>2</th>\n",
       "      <td>0.056604</td>\n",
       "      <td>0.119497</td>\n",
       "      <td>0.423077</td>\n",
       "      <td>0.253425</td>\n",
       "    </tr>\n",
       "    <tr>\n",
       "      <th>3</th>\n",
       "      <td>0.679245</td>\n",
       "      <td>0.075472</td>\n",
       "      <td>0.871795</td>\n",
       "      <td>0.123288</td>\n",
       "    </tr>\n",
       "    <tr>\n",
       "      <th>4</th>\n",
       "      <td>0.528302</td>\n",
       "      <td>0.081761</td>\n",
       "      <td>0.500000</td>\n",
       "      <td>0.126712</td>\n",
       "    </tr>\n",
       "  </tbody>\n",
       "</table>\n",
       "</div>"
      ],
      "text/plain": [
       "    alcohol  sulphates  citric_acid  volatile_acidity\n",
       "0  0.245283   0.088050     0.128205          0.452055\n",
       "1  0.169811   0.088050     0.051282          0.414384\n",
       "2  0.056604   0.119497     0.423077          0.253425\n",
       "3  0.679245   0.075472     0.871795          0.123288\n",
       "4  0.528302   0.081761     0.500000          0.126712"
      ]
     },
     "execution_count": 38,
     "metadata": {},
     "output_type": "execute_result"
    }
   ],
   "source": [
    "X_test_scaled = X_test_scaled[selected_features.values.flatten().tolist()]\n",
    "X_test_scaled.head()"
   ]
  },
  {
   "cell_type": "markdown",
   "metadata": {},
   "source": [
    "# 4. Model selection"
   ]
  },
  {
   "cell_type": "code",
   "execution_count": 39,
   "metadata": {},
   "outputs": [],
   "source": [
    "models = [\n",
    "    Lasso(alpha=0.001, random_state=101),\n",
    "    Ridge(alpha=0.001, random_state=101),\n",
    "    ElasticNet(alpha=0.001, random_state=101),\n",
    "    DecisionTreeRegressor(random_state=101),\n",
    "    RandomForestRegressor(n_estimators=10, random_state=101),\n",
    "    LinearRegression()\n",
    "]"
   ]
  },
  {
   "cell_type": "code",
   "execution_count": 40,
   "metadata": {},
   "outputs": [],
   "source": [
    "def score_models(X_train, X_test, y_train, y_test, models):\n",
    "    model_results = list()\n",
    "    for model in models:\n",
    "        model.fit(X_train, y_train)\n",
    "        predictions = model.predict(X_test)\n",
    "        df1 = pd.DataFrame(\n",
    "            {\n",
    "                \"model\": [model.__class__.__name__],\n",
    "                \"MAE\": [mean_absolute_error(y_test, predictions)],\n",
    "                \"MSE\": [mean_squared_error(y_test, predictions)],\n",
    "                \"RMSE\": [np.sqrt(mean_squared_error(y_test, predictions))],\n",
    "                \"R2\": [r2_score(y_test, predictions)],\n",
    "                \"EVS\": [explained_variance_score(y_test, predictions)]\n",
    "            }\n",
    "        ).set_index(\"model\")\n",
    "        plt.figure()\n",
    "        plt.scatter(y_test, predictions)\n",
    "        plt.title(model.__class__.__name__)\n",
    "        model_results.append(df1)\n",
    "        \n",
    "    return pd.concat(model_results, axis=0) # faster than \"append\" in loop"
   ]
  },
  {
   "cell_type": "code",
   "execution_count": 41,
   "metadata": {},
   "outputs": [
    {
     "data": {
      "image/png": "[encoded data removed]",
      "text/plain": [
       "<Figure size 432x288 with 1 Axes>"
      ]
     },
     "metadata": {
      "needs_background": "light"
     },
     "output_type": "display_data"
    },
    {
     "data": {
      "image/png": "[encoded data removed]",
      "text/plain": [
       "<Figure size 432x288 with 1 Axes>"
      ]
     },
     "metadata": {
      "needs_background": "light"
     },
     "output_type": "display_data"
    },
    {
     "data": {
      "image/png": "[encoded data removed]",
      "text/plain": [
       "<Figure size 432x288 with 1 Axes>"
      ]
     },
     "metadata": {
      "needs_background": "light"
     },
     "output_type": "display_data"
    },
    {
     "data": {
      "image/png": "[encoded data removed]",
      "text/plain": [
       "<Figure size 432x288 with 1 Axes>"
      ]
     },
     "metadata": {
      "needs_background": "light"
     },
     "output_type": "display_data"
    },
    {
     "data": {
      "image/png": "[encoded data removed]",
      "text/plain": [
       "<Figure size 432x288 with 1 Axes>"
      ]
     },
     "metadata": {
      "needs_background": "light"
     },
     "output_type": "display_data"
    },
    {
     "data": {
      "image/png": "[encoded data removed]",
      "text/plain": [
       "<Figure size 432x288 with 1 Axes>"
      ]
     },
     "metadata": {
      "needs_background": "light"
     },
     "output_type": "display_data"
    }
   ],
   "source": [
    "model_results = score_models(X_train_scaled, X_test_scaled, y_train, y_test, models)"
   ]
  },
  {
   "cell_type": "code",
   "execution_count": 42,
   "metadata": {},
   "outputs": [
    {
     "data": {
      "text/html": [
       "<div>\n",
       "<style scoped>\n",
       "    .dataframe tbody tr th:only-of-type {\n",
       "        vertical-align: middle;\n",
       "    }\n",
       "\n",
       "    .dataframe tbody tr th {\n",
       "        vertical-align: top;\n",
       "    }\n",
       "\n",
       "    .dataframe thead th {\n",
       "        text-align: right;\n",
       "    }\n",
       "</style>\n",
       "<table border=\"1\" class=\"dataframe\">\n",
       "  <thead>\n",
       "    <tr style=\"text-align: right;\">\n",
       "      <th></th>\n",
       "      <th>MAE</th>\n",
       "      <th>MSE</th>\n",
       "      <th>RMSE</th>\n",
       "      <th>R2</th>\n",
       "      <th>EVS</th>\n",
       "    </tr>\n",
       "    <tr>\n",
       "      <th>model</th>\n",
       "      <th></th>\n",
       "      <th></th>\n",
       "      <th></th>\n",
       "      <th></th>\n",
       "      <th></th>\n",
       "    </tr>\n",
       "  </thead>\n",
       "  <tbody>\n",
       "    <tr>\n",
       "      <th>Lasso</th>\n",
       "      <td>0.523623</td>\n",
       "      <td>0.446284</td>\n",
       "      <td>0.668045</td>\n",
       "      <td>0.330225</td>\n",
       "      <td>0.330682</td>\n",
       "    </tr>\n",
       "    <tr>\n",
       "      <th>Ridge</th>\n",
       "      <td>0.522912</td>\n",
       "      <td>0.446220</td>\n",
       "      <td>0.667997</td>\n",
       "      <td>0.330321</td>\n",
       "      <td>0.330777</td>\n",
       "    </tr>\n",
       "    <tr>\n",
       "      <th>ElasticNet</th>\n",
       "      <td>0.523747</td>\n",
       "      <td>0.446411</td>\n",
       "      <td>0.668140</td>\n",
       "      <td>0.330035</td>\n",
       "      <td>0.330493</td>\n",
       "    </tr>\n",
       "    <tr>\n",
       "      <th>DecisionTreeRegressor</th>\n",
       "      <td>0.573661</td>\n",
       "      <td>0.768080</td>\n",
       "      <td>0.876402</td>\n",
       "      <td>-0.152721</td>\n",
       "      <td>-0.152613</td>\n",
       "    </tr>\n",
       "    <tr>\n",
       "      <th>RandomForestRegressor</th>\n",
       "      <td>0.518673</td>\n",
       "      <td>0.457776</td>\n",
       "      <td>0.676591</td>\n",
       "      <td>0.312978</td>\n",
       "      <td>0.313548</td>\n",
       "    </tr>\n",
       "  </tbody>\n",
       "</table>\n",
       "</div>"
      ],
      "text/plain": [
       "                            MAE       MSE      RMSE        R2       EVS\n",
       "model                                                                  \n",
       "Lasso                  0.523623  0.446284  0.668045  0.330225  0.330682\n",
       "Ridge                  0.522912  0.446220  0.667997  0.330321  0.330777\n",
       "ElasticNet             0.523747  0.446411  0.668140  0.330035  0.330493\n",
       "DecisionTreeRegressor  0.573661  0.768080  0.876402 -0.152721 -0.152613\n",
       "RandomForestRegressor  0.518673  0.457776  0.676591  0.312978  0.313548"
      ]
     },
     "execution_count": 42,
     "metadata": {},
     "output_type": "execute_result"
    }
   ],
   "source": [
    "model_results.head()"
   ]
  },
  {
   "cell_type": "code",
   "execution_count": 43,
   "metadata": {},
   "outputs": [
    {
     "data": {
      "text/plain": [
       "6.0"
      ]
     },
     "execution_count": 43,
     "metadata": {},
     "output_type": "execute_result"
    }
   ],
   "source": [
    "y_train.median() # average wine quality"
   ]
  },
  {
   "cell_type": "code",
   "execution_count": 44,
   "metadata": {},
   "outputs": [
    {
     "data": {
      "text/plain": [
       "MAE     RandomForestRegressor\n",
       "MSE          LinearRegression\n",
       "RMSE         LinearRegression\n",
       "R2      DecisionTreeRegressor\n",
       "EVS     DecisionTreeRegressor\n",
       "dtype: object"
      ]
     },
     "execution_count": 44,
     "metadata": {},
     "output_type": "execute_result"
    }
   ],
   "source": [
    "model_results.idxmin()"
   ]
  },
  {
   "cell_type": "markdown",
   "metadata": {},
   "source": [
    "## 4.1. Finding best model parameters using GridSearch"
   ]
  },
  {
   "cell_type": "code",
   "execution_count": 45,
   "metadata": {},
   "outputs": [],
   "source": [
    "models = [\n",
    "    Lasso(),\n",
    "    Ridge(),\n",
    "    ElasticNet(),\n",
    "    RandomForestRegressor()\n",
    "]"
   ]
  },
  {
   "cell_type": "code",
   "execution_count": 46,
   "metadata": {},
   "outputs": [],
   "source": [
    "param_grid = {\n",
    "    \"alpha\": np.arange(0, 1, 0.1).tolist(),\n",
    "    \"random_state\": [101]\n",
    "}\n",
    "\n",
    "param_grid_forest = {\n",
    "    \"random_state\": [101],\n",
    "    \"n_estimators\": np.arange(0, 600, 10).tolist()\n",
    "}"
   ]
  },
  {
   "cell_type": "code",
   "execution_count": 47,
   "metadata": {},
   "outputs": [
    {
     "name": "stdout",
     "output_type": "stream",
     "text": [
      "Fitting 5 folds for each of 10 candidates, totalling 50 fits\n",
      "[CV] END ........................alpha=0.0, random_state=101; total time=   0.0s\n",
      "[CV] END ........................alpha=0.0, random_state=101; total time=   0.0s\n",
      "[CV] END ........................alpha=0.0, random_state=101; total time=   0.0s\n",
      "[CV] END ........................alpha=0.0, random_state=101; total time=   0.0s\n",
      "[CV] END ........................alpha=0.0, random_state=101; total time=   0.0s\n",
      "[CV] END ........................alpha=0.1, random_state=101; total time=   0.0s\n",
      "[CV] END ........................alpha=0.1, random_state=101; total time=   0.0s\n",
      "[CV] END ........................alpha=0.1, random_state=101; total time=   0.0s\n",
      "[CV] END ........................alpha=0.1, random_state=101; total time=   0.0s\n",
      "[CV] END ........................alpha=0.1, random_state=101; total time=   0.0s\n",
      "[CV] END ........................alpha=0.2, random_state=101; total time=   0.0s\n",
      "[CV] END ........................alpha=0.2, random_state=101; total time=   0.0s\n",
      "[CV] END ........................alpha=0.2, random_state=101; total time=   0.0s\n",
      "[CV] END ........................alpha=0.2, random_state=101; total time=   0.0s\n",
      "[CV] END ........................alpha=0.2, random_state=101; total time=   0.0s\n",
      "[CV] END ........alpha=0.30000000000000004, random_state=101; total time=   0.0s\n",
      "[CV] END ........alpha=0.30000000000000004, random_state=101; total time=   0.0s\n",
      "[CV] END ........alpha=0.30000000000000004, random_state=101; total time=   0.0s\n",
      "[CV] END ........alpha=0.30000000000000004, random_state=101; total time=   0.0s\n",
      "[CV] END ........alpha=0.30000000000000004, random_state=101; total time=   0.0s\n",
      "[CV] END ........................alpha=0.4, random_state=101; total time=   0.0s\n",
      "[CV] END ........................alpha=0.4, random_state=101; total time=   0.0s\n",
      "[CV] END ........................alpha=0.4, random_state=101; total time=   0.0s\n",
      "[CV] END ........................alpha=0.4, random_state=101; total time=   0.0s\n",
      "[CV] END ........................alpha=0.4, random_state=101; total time=   0.0s\n",
      "[CV] END ........................alpha=0.5, random_state=101; total time=   0.0s\n",
      "[CV] END ........................alpha=0.5, random_state=101; total time=   0.0s\n",
      "[CV] END ........................alpha=0.5, random_state=101; total time=   0.0s\n",
      "[CV] END ........................alpha=0.5, random_state=101; total time=   0.0s\n",
      "[CV] END ........................alpha=0.5, random_state=101; total time=   0.0s\n",
      "[CV] END .........alpha=0.6000000000000001, random_state=101; total time=   0.0s\n",
      "[CV] END .........alpha=0.6000000000000001, random_state=101; total time=   0.0s\n",
      "[CV] END .........alpha=0.6000000000000001, random_state=101; total time=   0.0s\n",
      "[CV] END .........alpha=0.6000000000000001, random_state=101; total time=   0.0s\n"
     ]
    },
    {
     "name": "stderr",
     "output_type": "stream",
     "text": [
      "C:\\Users\\Daniel\\anaconda3\\envs\\data_science\\lib\\site-packages\\sklearn\\model_selection\\_validation.py:681: UserWarning: With alpha=0, this algorithm does not converge well. You are advised to use the LinearRegression estimator\n",
      "  estimator.fit(X_train, y_train, **fit_params)\n",
      "C:\\Users\\Daniel\\anaconda3\\envs\\data_science\\lib\\site-packages\\sklearn\\linear_model\\_coordinate_descent.py:647: UserWarning: Coordinate descent with no regularization may lead to unexpected results and is discouraged.\n",
      "  model = cd_fast.enet_coordinate_descent(\n",
      "C:\\Users\\Daniel\\anaconda3\\envs\\data_science\\lib\\site-packages\\sklearn\\linear_model\\_coordinate_descent.py:647: ConvergenceWarning: Objective did not converge. You might want to increase the number of iterations, check the scale of the features or consider increasing regularisation. Duality gap: 7.438e+01, tolerance: 2.313e-02 Linear regression models with null weight for the l1 regularization term are more efficiently fitted using one of the solvers implemented in sklearn.linear_model.Ridge/RidgeCV instead.\n",
      "  model = cd_fast.enet_coordinate_descent(\n",
      "C:\\Users\\Daniel\\anaconda3\\envs\\data_science\\lib\\site-packages\\sklearn\\model_selection\\_validation.py:681: UserWarning: With alpha=0, this algorithm does not converge well. You are advised to use the LinearRegression estimator\n",
      "  estimator.fit(X_train, y_train, **fit_params)\n",
      "C:\\Users\\Daniel\\anaconda3\\envs\\data_science\\lib\\site-packages\\sklearn\\linear_model\\_coordinate_descent.py:647: UserWarning: Coordinate descent with no regularization may lead to unexpected results and is discouraged.\n",
      "  model = cd_fast.enet_coordinate_descent(\n",
      "C:\\Users\\Daniel\\anaconda3\\envs\\data_science\\lib\\site-packages\\sklearn\\linear_model\\_coordinate_descent.py:647: ConvergenceWarning: Objective did not converge. You might want to increase the number of iterations, check the scale of the features or consider increasing regularisation. Duality gap: 7.193e+01, tolerance: 2.220e-02 Linear regression models with null weight for the l1 regularization term are more efficiently fitted using one of the solvers implemented in sklearn.linear_model.Ridge/RidgeCV instead.\n",
      "  model = cd_fast.enet_coordinate_descent(\n",
      "C:\\Users\\Daniel\\anaconda3\\envs\\data_science\\lib\\site-packages\\sklearn\\model_selection\\_validation.py:681: UserWarning: With alpha=0, this algorithm does not converge well. You are advised to use the LinearRegression estimator\n",
      "  estimator.fit(X_train, y_train, **fit_params)\n",
      "C:\\Users\\Daniel\\anaconda3\\envs\\data_science\\lib\\site-packages\\sklearn\\linear_model\\_coordinate_descent.py:647: UserWarning: Coordinate descent with no regularization may lead to unexpected results and is discouraged.\n",
      "  model = cd_fast.enet_coordinate_descent(\n",
      "C:\\Users\\Daniel\\anaconda3\\envs\\data_science\\lib\\site-packages\\sklearn\\linear_model\\_coordinate_descent.py:647: ConvergenceWarning: Objective did not converge. You might want to increase the number of iterations, check the scale of the features or consider increasing regularisation. Duality gap: 8.143e+01, tolerance: 2.415e-02 Linear regression models with null weight for the l1 regularization term are more efficiently fitted using one of the solvers implemented in sklearn.linear_model.Ridge/RidgeCV instead.\n",
      "  model = cd_fast.enet_coordinate_descent(\n",
      "C:\\Users\\Daniel\\anaconda3\\envs\\data_science\\lib\\site-packages\\sklearn\\model_selection\\_validation.py:681: UserWarning: With alpha=0, this algorithm does not converge well. You are advised to use the LinearRegression estimator\n",
      "  estimator.fit(X_train, y_train, **fit_params)\n",
      "C:\\Users\\Daniel\\anaconda3\\envs\\data_science\\lib\\site-packages\\sklearn\\linear_model\\_coordinate_descent.py:647: UserWarning: Coordinate descent with no regularization may lead to unexpected results and is discouraged.\n",
      "  model = cd_fast.enet_coordinate_descent(\n",
      "C:\\Users\\Daniel\\anaconda3\\envs\\data_science\\lib\\site-packages\\sklearn\\linear_model\\_coordinate_descent.py:647: ConvergenceWarning: Objective did not converge. You might want to increase the number of iterations, check the scale of the features or consider increasing regularisation. Duality gap: 7.738e+01, tolerance: 2.365e-02 Linear regression models with null weight for the l1 regularization term are more efficiently fitted using one of the solvers implemented in sklearn.linear_model.Ridge/RidgeCV instead.\n",
      "  model = cd_fast.enet_coordinate_descent(\n",
      "C:\\Users\\Daniel\\anaconda3\\envs\\data_science\\lib\\site-packages\\sklearn\\model_selection\\_validation.py:681: UserWarning: With alpha=0, this algorithm does not converge well. You are advised to use the LinearRegression estimator\n",
      "  estimator.fit(X_train, y_train, **fit_params)\n",
      "C:\\Users\\Daniel\\anaconda3\\envs\\data_science\\lib\\site-packages\\sklearn\\linear_model\\_coordinate_descent.py:647: UserWarning: Coordinate descent with no regularization may lead to unexpected results and is discouraged.\n",
      "  model = cd_fast.enet_coordinate_descent(\n",
      "C:\\Users\\Daniel\\anaconda3\\envs\\data_science\\lib\\site-packages\\sklearn\\linear_model\\_coordinate_descent.py:647: ConvergenceWarning: Objective did not converge. You might want to increase the number of iterations, check the scale of the features or consider increasing regularisation. Duality gap: 8.040e+01, tolerance: 2.505e-02 Linear regression models with null weight for the l1 regularization term are more efficiently fitted using one of the solvers implemented in sklearn.linear_model.Ridge/RidgeCV instead.\n",
      "  model = cd_fast.enet_coordinate_descent(\n"
     ]
    },
    {
     "name": "stdout",
     "output_type": "stream",
     "text": [
      "[CV] END .........alpha=0.6000000000000001, random_state=101; total time=   0.0s\n",
      "[CV] END .........alpha=0.7000000000000001, random_state=101; total time=   0.0s\n",
      "[CV] END .........alpha=0.7000000000000001, random_state=101; total time=   0.0s\n",
      "[CV] END .........alpha=0.7000000000000001, random_state=101; total time=   0.0s\n",
      "[CV] END .........alpha=0.7000000000000001, random_state=101; total time=   0.0s\n",
      "[CV] END .........alpha=0.7000000000000001, random_state=101; total time=   0.0s\n",
      "[CV] END ........................alpha=0.8, random_state=101; total time=   0.0s\n",
      "[CV] END ........................alpha=0.8, random_state=101; total time=   0.0s\n",
      "[CV] END ........................alpha=0.8, random_state=101; total time=   0.0s\n",
      "[CV] END ........................alpha=0.8, random_state=101; total time=   0.0s\n",
      "[CV] END ........................alpha=0.8, random_state=101; total time=   0.0s\n",
      "[CV] END ........................alpha=0.9, random_state=101; total time=   0.0s\n",
      "[CV] END ........................alpha=0.9, random_state=101; total time=   0.0s\n",
      "[CV] END ........................alpha=0.9, random_state=101; total time=   0.0s\n",
      "[CV] END ........................alpha=0.9, random_state=101; total time=   0.0s\n",
      "[CV] END ........................alpha=0.9, random_state=101; total time=   0.0s\n",
      "Fitting 5 folds for each of 10 candidates, totalling 50 fits\n",
      "[CV] END ........................alpha=0.0, random_state=101; total time=   0.0s\n",
      "[CV] END ........................alpha=0.0, random_state=101; total time=   0.0s\n",
      "[CV] END ........................alpha=0.0, random_state=101; total time=   0.0s\n",
      "[CV] END ........................alpha=0.0, random_state=101; total time=   0.0s\n",
      "[CV] END ........................alpha=0.0, random_state=101; total time=   0.0s\n",
      "[CV] END ........................alpha=0.1, random_state=101; total time=   0.0s\n",
      "[CV] END ........................alpha=0.1, random_state=101; total time=   0.0s\n",
      "[CV] END ........................alpha=0.1, random_state=101; total time=   0.0s\n",
      "[CV] END ........................alpha=0.1, random_state=101; total time=   0.0s\n",
      "[CV] END ........................alpha=0.1, random_state=101; total time=   0.0s\n",
      "[CV] END ........................alpha=0.2, random_state=101; total time=   0.0s\n",
      "[CV] END ........................alpha=0.2, random_state=101; total time=   0.0s\n",
      "[CV] END ........................alpha=0.2, random_state=101; total time=   0.0s\n",
      "[CV] END ........................alpha=0.2, random_state=101; total time=   0.0s\n",
      "[CV] END ........................alpha=0.2, random_state=101; total time=   0.0s\n",
      "[CV] END ........alpha=0.30000000000000004, random_state=101; total time=   0.0s\n",
      "[CV] END ........alpha=0.30000000000000004, random_state=101; total time=   0.0s\n",
      "[CV] END ........alpha=0.30000000000000004, random_state=101; total time=   0.0s\n",
      "[CV] END ........alpha=0.30000000000000004, random_state=101; total time=   0.0s\n",
      "[CV] END ........alpha=0.30000000000000004, random_state=101; total time=   0.0s\n",
      "[CV] END ........................alpha=0.4, random_state=101; total time=   0.0s\n",
      "[CV] END ........................alpha=0.4, random_state=101; total time=   0.0s\n",
      "[CV] END ........................alpha=0.4, random_state=101; total time=   0.0s\n",
      "[CV] END ........................alpha=0.4, random_state=101; total time=   0.0s\n",
      "[CV] END ........................alpha=0.4, random_state=101; total time=   0.0s\n",
      "[CV] END ........................alpha=0.5, random_state=101; total time=   0.0s\n",
      "[CV] END ........................alpha=0.5, random_state=101; total time=   0.0s\n",
      "[CV] END ........................alpha=0.5, random_state=101; total time=   0.0s\n",
      "[CV] END ........................alpha=0.5, random_state=101; total time=   0.0s\n",
      "[CV] END ........................alpha=0.5, random_state=101; total time=   0.0s\n",
      "[CV] END .........alpha=0.6000000000000001, random_state=101; total time=   0.0s\n",
      "[CV] END .........alpha=0.6000000000000001, random_state=101; total time=   0.0s\n",
      "[CV] END .........alpha=0.6000000000000001, random_state=101; total time=   0.0s\n",
      "[CV] END .........alpha=0.6000000000000001, random_state=101; total time=   0.0s\n",
      "[CV] END .........alpha=0.6000000000000001, random_state=101; total time=   0.0s\n",
      "[CV] END .........alpha=0.7000000000000001, random_state=101; total time=   0.0s\n",
      "[CV] END .........alpha=0.7000000000000001, random_state=101; total time=   0.0s\n",
      "[CV] END .........alpha=0.7000000000000001, random_state=101; total time=   0.0s\n",
      "[CV] END .........alpha=0.7000000000000001, random_state=101; total time=   0.0s\n",
      "[CV] END .........alpha=0.7000000000000001, random_state=101; total time=   0.0s\n",
      "[CV] END ........................alpha=0.8, random_state=101; total time=   0.0s\n",
      "[CV] END ........................alpha=0.8, random_state=101; total time=   0.0s\n",
      "[CV] END ........................alpha=0.8, random_state=101; total time=   0.0s\n",
      "[CV] END ........................alpha=0.8, random_state=101; total time=   0.0s\n",
      "[CV] END ........................alpha=0.8, random_state=101; total time=   0.0s\n",
      "[CV] END ........................alpha=0.9, random_state=101; total time=   0.0s\n",
      "[CV] END ........................alpha=0.9, random_state=101; total time=   0.0s\n",
      "[CV] END ........................alpha=0.9, random_state=101; total time=   0.0s\n",
      "[CV] END ........................alpha=0.9, random_state=101; total time=   0.0s\n",
      "[CV] END ........................alpha=0.9, random_state=101; total time=   0.0s\n",
      "Fitting 5 folds for each of 10 candidates, totalling 50 fits\n",
      "[CV] END ........................alpha=0.0, random_state=101; total time=   0.0s\n",
      "[CV] END ........................alpha=0.0, random_state=101; total time=   0.0s\n",
      "[CV] END ........................alpha=0.0, random_state=101; total time=   0.0s\n",
      "[CV] END ........................alpha=0.0, random_state=101; total time=   0.0s\n",
      "[CV] END ........................alpha=0.0, random_state=101; total time=   0.0s\n",
      "[CV] END ........................alpha=0.1, random_state=101; total time=   0.0s\n",
      "[CV] END ........................alpha=0.1, random_state=101; total time=   0.0s\n",
      "[CV] END ........................alpha=0.1, random_state=101; total time=   0.0s\n",
      "[CV] END ........................alpha=0.1, random_state=101; total time=   0.0s\n",
      "[CV] END ........................alpha=0.1, random_state=101; total time=   0.0s\n",
      "[CV] END ........................alpha=0.2, random_state=101; total time=   0.0s\n",
      "[CV] END ........................alpha=0.2, random_state=101; total time=   0.0s\n",
      "[CV] END ........................alpha=0.2, random_state=101; total time=   0.0s\n",
      "[CV] END ........................alpha=0.2, random_state=101; total time=   0.0s\n",
      "[CV] END ........................alpha=0.2, random_state=101; total time=   0.0s\n",
      "[CV] END ........alpha=0.30000000000000004, random_state=101; total time=   0.0s\n",
      "[CV] END ........alpha=0.30000000000000004, random_state=101; total time=   0.0s\n",
      "[CV] END ........alpha=0.30000000000000004, random_state=101; total time=   0.0s\n",
      "[CV] END ........alpha=0.30000000000000004, random_state=101; total time=   0.0s\n",
      "[CV] END ........alpha=0.30000000000000004, random_state=101; total time=   0.0s\n",
      "[CV] END ........................alpha=0.4, random_state=101; total time=   0.0s\n"
     ]
    },
    {
     "name": "stderr",
     "output_type": "stream",
     "text": [
      "C:\\Users\\Daniel\\anaconda3\\envs\\data_science\\lib\\site-packages\\sklearn\\model_selection\\_search.py:926: UserWarning: With alpha=0, this algorithm does not converge well. You are advised to use the LinearRegression estimator\n",
      "  self.best_estimator_.fit(X, y, **fit_params)\n",
      "C:\\Users\\Daniel\\anaconda3\\envs\\data_science\\lib\\site-packages\\sklearn\\linear_model\\_coordinate_descent.py:647: UserWarning: Coordinate descent with no regularization may lead to unexpected results and is discouraged.\n",
      "  model = cd_fast.enet_coordinate_descent(\n",
      "C:\\Users\\Daniel\\anaconda3\\envs\\data_science\\lib\\site-packages\\sklearn\\linear_model\\_coordinate_descent.py:647: ConvergenceWarning: Objective did not converge. You might want to increase the number of iterations, check the scale of the features or consider increasing regularisation. Duality gap: 9.658e+01, tolerance: 2.955e-02 Linear regression models with null weight for the l1 regularization term are more efficiently fitted using one of the solvers implemented in sklearn.linear_model.Ridge/RidgeCV instead.\n",
      "  model = cd_fast.enet_coordinate_descent(\n",
      "C:\\Users\\Daniel\\anaconda3\\envs\\data_science\\lib\\site-packages\\sklearn\\model_selection\\_validation.py:681: UserWarning: With alpha=0, this algorithm does not converge well. You are advised to use the LinearRegression estimator\n",
      "  estimator.fit(X_train, y_train, **fit_params)\n",
      "C:\\Users\\Daniel\\anaconda3\\envs\\data_science\\lib\\site-packages\\sklearn\\linear_model\\_coordinate_descent.py:647: UserWarning: Coordinate descent with no regularization may lead to unexpected results and is discouraged.\n",
      "  model = cd_fast.enet_coordinate_descent(\n",
      "C:\\Users\\Daniel\\anaconda3\\envs\\data_science\\lib\\site-packages\\sklearn\\linear_model\\_coordinate_descent.py:647: ConvergenceWarning: Objective did not converge. You might want to increase the number of iterations, check the scale of the features or consider increasing regularisation. Duality gap: 7.438e+01, tolerance: 2.313e-02 Linear regression models with null weight for the l1 regularization term are more efficiently fitted using one of the solvers implemented in sklearn.linear_model.Ridge/RidgeCV instead.\n",
      "  model = cd_fast.enet_coordinate_descent(\n",
      "C:\\Users\\Daniel\\anaconda3\\envs\\data_science\\lib\\site-packages\\sklearn\\model_selection\\_validation.py:681: UserWarning: With alpha=0, this algorithm does not converge well. You are advised to use the LinearRegression estimator\n",
      "  estimator.fit(X_train, y_train, **fit_params)\n",
      "C:\\Users\\Daniel\\anaconda3\\envs\\data_science\\lib\\site-packages\\sklearn\\linear_model\\_coordinate_descent.py:647: UserWarning: Coordinate descent with no regularization may lead to unexpected results and is discouraged.\n",
      "  model = cd_fast.enet_coordinate_descent(\n",
      "C:\\Users\\Daniel\\anaconda3\\envs\\data_science\\lib\\site-packages\\sklearn\\linear_model\\_coordinate_descent.py:647: ConvergenceWarning: Objective did not converge. You might want to increase the number of iterations, check the scale of the features or consider increasing regularisation. Duality gap: 7.193e+01, tolerance: 2.220e-02 Linear regression models with null weight for the l1 regularization term are more efficiently fitted using one of the solvers implemented in sklearn.linear_model.Ridge/RidgeCV instead.\n",
      "  model = cd_fast.enet_coordinate_descent(\n",
      "C:\\Users\\Daniel\\anaconda3\\envs\\data_science\\lib\\site-packages\\sklearn\\model_selection\\_validation.py:681: UserWarning: With alpha=0, this algorithm does not converge well. You are advised to use the LinearRegression estimator\n",
      "  estimator.fit(X_train, y_train, **fit_params)\n",
      "C:\\Users\\Daniel\\anaconda3\\envs\\data_science\\lib\\site-packages\\sklearn\\linear_model\\_coordinate_descent.py:647: UserWarning: Coordinate descent with no regularization may lead to unexpected results and is discouraged.\n",
      "  model = cd_fast.enet_coordinate_descent(\n",
      "C:\\Users\\Daniel\\anaconda3\\envs\\data_science\\lib\\site-packages\\sklearn\\linear_model\\_coordinate_descent.py:647: ConvergenceWarning: Objective did not converge. You might want to increase the number of iterations, check the scale of the features or consider increasing regularisation. Duality gap: 8.143e+01, tolerance: 2.415e-02 Linear regression models with null weight for the l1 regularization term are more efficiently fitted using one of the solvers implemented in sklearn.linear_model.Ridge/RidgeCV instead.\n",
      "  model = cd_fast.enet_coordinate_descent(\n",
      "C:\\Users\\Daniel\\anaconda3\\envs\\data_science\\lib\\site-packages\\sklearn\\model_selection\\_validation.py:681: UserWarning: With alpha=0, this algorithm does not converge well. You are advised to use the LinearRegression estimator\n",
      "  estimator.fit(X_train, y_train, **fit_params)\n",
      "C:\\Users\\Daniel\\anaconda3\\envs\\data_science\\lib\\site-packages\\sklearn\\linear_model\\_coordinate_descent.py:647: UserWarning: Coordinate descent with no regularization may lead to unexpected results and is discouraged.\n",
      "  model = cd_fast.enet_coordinate_descent(\n",
      "C:\\Users\\Daniel\\anaconda3\\envs\\data_science\\lib\\site-packages\\sklearn\\linear_model\\_coordinate_descent.py:647: ConvergenceWarning: Objective did not converge. You might want to increase the number of iterations, check the scale of the features or consider increasing regularisation. Duality gap: 7.738e+01, tolerance: 2.365e-02 Linear regression models with null weight for the l1 regularization term are more efficiently fitted using one of the solvers implemented in sklearn.linear_model.Ridge/RidgeCV instead.\n",
      "  model = cd_fast.enet_coordinate_descent(\n",
      "C:\\Users\\Daniel\\anaconda3\\envs\\data_science\\lib\\site-packages\\sklearn\\model_selection\\_validation.py:681: UserWarning: With alpha=0, this algorithm does not converge well. You are advised to use the LinearRegression estimator\n",
      "  estimator.fit(X_train, y_train, **fit_params)\n",
      "C:\\Users\\Daniel\\anaconda3\\envs\\data_science\\lib\\site-packages\\sklearn\\linear_model\\_coordinate_descent.py:647: UserWarning: Coordinate descent with no regularization may lead to unexpected results and is discouraged.\n",
      "  model = cd_fast.enet_coordinate_descent(\n",
      "C:\\Users\\Daniel\\anaconda3\\envs\\data_science\\lib\\site-packages\\sklearn\\linear_model\\_coordinate_descent.py:647: ConvergenceWarning: Objective did not converge. You might want to increase the number of iterations, check the scale of the features or consider increasing regularisation. Duality gap: 8.040e+01, tolerance: 2.505e-02 Linear regression models with null weight for the l1 regularization term are more efficiently fitted using one of the solvers implemented in sklearn.linear_model.Ridge/RidgeCV instead.\n",
      "  model = cd_fast.enet_coordinate_descent(\n"
     ]
    },
    {
     "name": "stdout",
     "output_type": "stream",
     "text": [
      "[CV] END ........................alpha=0.4, random_state=101; total time=   0.0s\n",
      "[CV] END ........................alpha=0.4, random_state=101; total time=   0.0s\n",
      "[CV] END ........................alpha=0.4, random_state=101; total time=   0.0s\n",
      "[CV] END ........................alpha=0.4, random_state=101; total time=   0.0s\n",
      "[CV] END ........................alpha=0.5, random_state=101; total time=   0.0s\n",
      "[CV] END ........................alpha=0.5, random_state=101; total time=   0.0s\n",
      "[CV] END ........................alpha=0.5, random_state=101; total time=   0.0s\n",
      "[CV] END ........................alpha=0.5, random_state=101; total time=   0.0s\n",
      "[CV] END ........................alpha=0.5, random_state=101; total time=   0.0s\n",
      "[CV] END .........alpha=0.6000000000000001, random_state=101; total time=   0.0s\n",
      "[CV] END .........alpha=0.6000000000000001, random_state=101; total time=   0.0s\n",
      "[CV] END .........alpha=0.6000000000000001, random_state=101; total time=   0.0s\n",
      "[CV] END .........alpha=0.6000000000000001, random_state=101; total time=   0.0s\n",
      "[CV] END .........alpha=0.6000000000000001, random_state=101; total time=   0.0s\n",
      "[CV] END .........alpha=0.7000000000000001, random_state=101; total time=   0.0s\n",
      "[CV] END .........alpha=0.7000000000000001, random_state=101; total time=   0.0s\n",
      "[CV] END .........alpha=0.7000000000000001, random_state=101; total time=   0.0s\n",
      "[CV] END .........alpha=0.7000000000000001, random_state=101; total time=   0.0s\n",
      "[CV] END .........alpha=0.7000000000000001, random_state=101; total time=   0.0s\n",
      "[CV] END ........................alpha=0.8, random_state=101; total time=   0.0s\n",
      "[CV] END ........................alpha=0.8, random_state=101; total time=   0.0s\n",
      "[CV] END ........................alpha=0.8, random_state=101; total time=   0.0s\n",
      "[CV] END ........................alpha=0.8, random_state=101; total time=   0.0s\n",
      "[CV] END ........................alpha=0.8, random_state=101; total time=   0.0s\n",
      "[CV] END ........................alpha=0.9, random_state=101; total time=   0.0s\n",
      "[CV] END ........................alpha=0.9, random_state=101; total time=   0.0s\n",
      "[CV] END ........................alpha=0.9, random_state=101; total time=   0.0s\n",
      "[CV] END ........................alpha=0.9, random_state=101; total time=   0.0s\n",
      "[CV] END ........................alpha=0.9, random_state=101; total time=   0.0s\n",
      "Fitting 5 folds for each of 60 candidates, totalling 300 fits\n",
      "[CV] END ...................n_estimators=0, random_state=101; total time=   0.0s\n",
      "[CV] END ...................n_estimators=0, random_state=101; total time=   0.0s\n",
      "[CV] END ...................n_estimators=0, random_state=101; total time=   0.0s\n",
      "[CV] END ...................n_estimators=0, random_state=101; total time=   0.0s\n",
      "[CV] END ...................n_estimators=0, random_state=101; total time=   0.0s\n",
      "[CV] END ..................n_estimators=10, random_state=101; total time=   0.0s\n",
      "[CV] END ..................n_estimators=10, random_state=101; total time=   0.0s\n",
      "[CV] END ..................n_estimators=10, random_state=101; total time=   0.0s\n",
      "[CV] END ..................n_estimators=10, random_state=101; total time=   0.0s\n",
      "[CV] END ..................n_estimators=10, random_state=101; total time=   0.0s\n",
      "[CV] END ..................n_estimators=20, random_state=101; total time=   0.0s\n",
      "[CV] END ..................n_estimators=20, random_state=101; total time=   0.0s\n",
      "[CV] END ..................n_estimators=20, random_state=101; total time=   0.0s\n"
     ]
    },
    {
     "name": "stderr",
     "output_type": "stream",
     "text": [
      "C:\\Users\\Daniel\\anaconda3\\envs\\data_science\\lib\\site-packages\\sklearn\\model_selection\\_search.py:926: UserWarning: With alpha=0, this algorithm does not converge well. You are advised to use the LinearRegression estimator\n",
      "  self.best_estimator_.fit(X, y, **fit_params)\n",
      "C:\\Users\\Daniel\\anaconda3\\envs\\data_science\\lib\\site-packages\\sklearn\\linear_model\\_coordinate_descent.py:647: UserWarning: Coordinate descent with no regularization may lead to unexpected results and is discouraged.\n",
      "  model = cd_fast.enet_coordinate_descent(\n",
      "C:\\Users\\Daniel\\anaconda3\\envs\\data_science\\lib\\site-packages\\sklearn\\linear_model\\_coordinate_descent.py:647: ConvergenceWarning: Objective did not converge. You might want to increase the number of iterations, check the scale of the features or consider increasing regularisation. Duality gap: 9.658e+01, tolerance: 2.955e-02 Linear regression models with null weight for the l1 regularization term are more efficiently fitted using one of the solvers implemented in sklearn.linear_model.Ridge/RidgeCV instead.\n",
      "  model = cd_fast.enet_coordinate_descent(\n"
     ]
    },
    {
     "name": "stdout",
     "output_type": "stream",
     "text": [
      "[CV] END ..................n_estimators=20, random_state=101; total time=   0.0s\n",
      "[CV] END ..................n_estimators=20, random_state=101; total time=   0.0s\n",
      "[CV] END ..................n_estimators=30, random_state=101; total time=   0.0s\n",
      "[CV] END ..................n_estimators=30, random_state=101; total time=   0.0s\n",
      "[CV] END ..................n_estimators=30, random_state=101; total time=   0.0s\n",
      "[CV] END ..................n_estimators=30, random_state=101; total time=   0.0s\n",
      "[CV] END ..................n_estimators=30, random_state=101; total time=   0.0s\n",
      "[CV] END ..................n_estimators=40, random_state=101; total time=   0.0s\n",
      "[CV] END ..................n_estimators=40, random_state=101; total time=   0.0s\n",
      "[CV] END ..................n_estimators=40, random_state=101; total time=   0.0s\n",
      "[CV] END ..................n_estimators=40, random_state=101; total time=   0.0s\n",
      "[CV] END ..................n_estimators=40, random_state=101; total time=   0.0s\n",
      "[CV] END ..................n_estimators=50, random_state=101; total time=   0.0s\n",
      "[CV] END ..................n_estimators=50, random_state=101; total time=   0.0s\n",
      "[CV] END ..................n_estimators=50, random_state=101; total time=   0.0s\n",
      "[CV] END ..................n_estimators=50, random_state=101; total time=   0.0s\n",
      "[CV] END ..................n_estimators=50, random_state=101; total time=   0.0s\n",
      "[CV] END ..................n_estimators=60, random_state=101; total time=   0.0s\n",
      "[CV] END ..................n_estimators=60, random_state=101; total time=   0.0s\n",
      "[CV] END ..................n_estimators=60, random_state=101; total time=   0.0s\n",
      "[CV] END ..................n_estimators=60, random_state=101; total time=   0.0s\n",
      "[CV] END ..................n_estimators=60, random_state=101; total time=   0.0s\n",
      "[CV] END ..................n_estimators=70, random_state=101; total time=   0.0s\n",
      "[CV] END ..................n_estimators=70, random_state=101; total time=   0.0s\n",
      "[CV] END ..................n_estimators=70, random_state=101; total time=   0.0s\n",
      "[CV] END ..................n_estimators=70, random_state=101; total time=   0.0s\n",
      "[CV] END ..................n_estimators=70, random_state=101; total time=   0.0s\n",
      "[CV] END ..................n_estimators=80, random_state=101; total time=   0.0s\n",
      "[CV] END ..................n_estimators=80, random_state=101; total time=   0.0s\n",
      "[CV] END ..................n_estimators=80, random_state=101; total time=   0.0s\n",
      "[CV] END ..................n_estimators=80, random_state=101; total time=   0.0s\n",
      "[CV] END ..................n_estimators=80, random_state=101; total time=   0.0s\n",
      "[CV] END ..................n_estimators=90, random_state=101; total time=   0.0s\n",
      "[CV] END ..................n_estimators=90, random_state=101; total time=   0.0s\n",
      "[CV] END ..................n_estimators=90, random_state=101; total time=   0.0s\n",
      "[CV] END ..................n_estimators=90, random_state=101; total time=   0.0s\n",
      "[CV] END ..................n_estimators=90, random_state=101; total time=   0.0s\n",
      "[CV] END .................n_estimators=100, random_state=101; total time=   0.0s\n",
      "[CV] END .................n_estimators=100, random_state=101; total time=   0.0s\n",
      "[CV] END .................n_estimators=100, random_state=101; total time=   0.0s\n",
      "[CV] END .................n_estimators=100, random_state=101; total time=   0.0s\n",
      "[CV] END .................n_estimators=100, random_state=101; total time=   0.0s\n",
      "[CV] END .................n_estimators=110, random_state=101; total time=   0.0s\n",
      "[CV] END .................n_estimators=110, random_state=101; total time=   0.0s\n",
      "[CV] END .................n_estimators=110, random_state=101; total time=   0.0s\n",
      "[CV] END .................n_estimators=110, random_state=101; total time=   0.0s\n",
      "[CV] END .................n_estimators=110, random_state=101; total time=   0.0s\n",
      "[CV] END .................n_estimators=120, random_state=101; total time=   0.0s\n",
      "[CV] END .................n_estimators=120, random_state=101; total time=   0.0s\n",
      "[CV] END .................n_estimators=120, random_state=101; total time=   0.0s\n",
      "[CV] END .................n_estimators=120, random_state=101; total time=   0.0s\n",
      "[CV] END .................n_estimators=120, random_state=101; total time=   0.0s\n",
      "[CV] END .................n_estimators=130, random_state=101; total time=   0.0s\n",
      "[CV] END .................n_estimators=130, random_state=101; total time=   0.0s\n",
      "[CV] END .................n_estimators=130, random_state=101; total time=   0.0s\n",
      "[CV] END .................n_estimators=130, random_state=101; total time=   0.0s\n",
      "[CV] END .................n_estimators=130, random_state=101; total time=   0.0s\n",
      "[CV] END .................n_estimators=140, random_state=101; total time=   0.0s\n",
      "[CV] END .................n_estimators=140, random_state=101; total time=   0.0s\n",
      "[CV] END .................n_estimators=140, random_state=101; total time=   0.0s\n",
      "[CV] END .................n_estimators=140, random_state=101; total time=   0.0s\n",
      "[CV] END .................n_estimators=140, random_state=101; total time=   0.0s\n",
      "[CV] END .................n_estimators=150, random_state=101; total time=   0.0s\n",
      "[CV] END .................n_estimators=150, random_state=101; total time=   0.0s\n",
      "[CV] END .................n_estimators=150, random_state=101; total time=   0.0s\n",
      "[CV] END .................n_estimators=150, random_state=101; total time=   0.0s\n",
      "[CV] END .................n_estimators=150, random_state=101; total time=   0.0s\n",
      "[CV] END .................n_estimators=160, random_state=101; total time=   0.0s\n",
      "[CV] END .................n_estimators=160, random_state=101; total time=   0.0s\n",
      "[CV] END .................n_estimators=160, random_state=101; total time=   0.0s\n",
      "[CV] END .................n_estimators=160, random_state=101; total time=   0.0s\n",
      "[CV] END .................n_estimators=160, random_state=101; total time=   0.0s\n",
      "[CV] END .................n_estimators=170, random_state=101; total time=   0.0s\n",
      "[CV] END .................n_estimators=170, random_state=101; total time=   0.1s\n",
      "[CV] END .................n_estimators=170, random_state=101; total time=   0.0s\n",
      "[CV] END .................n_estimators=170, random_state=101; total time=   0.0s\n",
      "[CV] END .................n_estimators=170, random_state=101; total time=   0.0s\n",
      "[CV] END .................n_estimators=180, random_state=101; total time=   0.1s\n",
      "[CV] END .................n_estimators=180, random_state=101; total time=   0.1s\n",
      "[CV] END .................n_estimators=180, random_state=101; total time=   0.1s\n",
      "[CV] END .................n_estimators=180, random_state=101; total time=   0.1s\n",
      "[CV] END .................n_estimators=180, random_state=101; total time=   0.1s\n",
      "[CV] END .................n_estimators=190, random_state=101; total time=   0.1s\n",
      "[CV] END .................n_estimators=190, random_state=101; total time=   0.1s\n",
      "[CV] END .................n_estimators=190, random_state=101; total time=   0.1s\n",
      "[CV] END .................n_estimators=190, random_state=101; total time=   0.1s\n",
      "[CV] END .................n_estimators=190, random_state=101; total time=   0.1s\n",
      "[CV] END .................n_estimators=200, random_state=101; total time=   0.1s\n",
      "[CV] END .................n_estimators=200, random_state=101; total time=   0.1s\n",
      "[CV] END .................n_estimators=200, random_state=101; total time=   0.1s\n",
      "[CV] END .................n_estimators=200, random_state=101; total time=   0.1s\n",
      "[CV] END .................n_estimators=200, random_state=101; total time=   0.1s\n",
      "[CV] END .................n_estimators=210, random_state=101; total time=   0.1s\n",
      "[CV] END .................n_estimators=210, random_state=101; total time=   0.1s\n",
      "[CV] END .................n_estimators=210, random_state=101; total time=   0.1s\n",
      "[CV] END .................n_estimators=210, random_state=101; total time=   0.1s\n",
      "[CV] END .................n_estimators=210, random_state=101; total time=   0.1s\n",
      "[CV] END .................n_estimators=220, random_state=101; total time=   0.1s\n",
      "[CV] END .................n_estimators=220, random_state=101; total time=   0.1s\n",
      "[CV] END .................n_estimators=220, random_state=101; total time=   0.1s\n",
      "[CV] END .................n_estimators=220, random_state=101; total time=   0.1s\n",
      "[CV] END .................n_estimators=220, random_state=101; total time=   0.1s\n",
      "[CV] END .................n_estimators=230, random_state=101; total time=   0.1s\n",
      "[CV] END .................n_estimators=230, random_state=101; total time=   0.1s\n",
      "[CV] END .................n_estimators=230, random_state=101; total time=   0.1s\n",
      "[CV] END .................n_estimators=230, random_state=101; total time=   0.1s\n",
      "[CV] END .................n_estimators=230, random_state=101; total time=   0.1s\n",
      "[CV] END .................n_estimators=240, random_state=101; total time=   0.1s\n",
      "[CV] END .................n_estimators=240, random_state=101; total time=   0.1s\n",
      "[CV] END .................n_estimators=240, random_state=101; total time=   0.1s\n",
      "[CV] END .................n_estimators=240, random_state=101; total time=   0.1s\n",
      "[CV] END .................n_estimators=240, random_state=101; total time=   0.1s\n",
      "[CV] END .................n_estimators=250, random_state=101; total time=   0.1s\n",
      "[CV] END .................n_estimators=250, random_state=101; total time=   0.1s\n",
      "[CV] END .................n_estimators=250, random_state=101; total time=   0.1s\n",
      "[CV] END .................n_estimators=250, random_state=101; total time=   0.1s\n",
      "[CV] END .................n_estimators=250, random_state=101; total time=   0.1s\n",
      "[CV] END .................n_estimators=260, random_state=101; total time=   0.1s\n",
      "[CV] END .................n_estimators=260, random_state=101; total time=   0.1s\n",
      "[CV] END .................n_estimators=260, random_state=101; total time=   0.1s\n",
      "[CV] END .................n_estimators=260, random_state=101; total time=   0.1s\n",
      "[CV] END .................n_estimators=260, random_state=101; total time=   0.1s\n",
      "[CV] END .................n_estimators=270, random_state=101; total time=   0.1s\n",
      "[CV] END .................n_estimators=270, random_state=101; total time=   0.1s\n",
      "[CV] END .................n_estimators=270, random_state=101; total time=   0.1s\n",
      "[CV] END .................n_estimators=270, random_state=101; total time=   0.1s\n",
      "[CV] END .................n_estimators=270, random_state=101; total time=   0.1s\n",
      "[CV] END .................n_estimators=280, random_state=101; total time=   0.1s\n",
      "[CV] END .................n_estimators=280, random_state=101; total time=   0.1s\n",
      "[CV] END .................n_estimators=280, random_state=101; total time=   0.2s\n",
      "[CV] END .................n_estimators=280, random_state=101; total time=   0.1s\n",
      "[CV] END .................n_estimators=280, random_state=101; total time=   0.1s\n",
      "[CV] END .................n_estimators=290, random_state=101; total time=   0.1s\n",
      "[CV] END .................n_estimators=290, random_state=101; total time=   0.1s\n",
      "[CV] END .................n_estimators=290, random_state=101; total time=   0.2s\n",
      "[CV] END .................n_estimators=290, random_state=101; total time=   0.1s\n",
      "[CV] END .................n_estimators=290, random_state=101; total time=   0.2s\n",
      "[CV] END .................n_estimators=300, random_state=101; total time=   0.2s\n",
      "[CV] END .................n_estimators=300, random_state=101; total time=   0.2s\n",
      "[CV] END .................n_estimators=300, random_state=101; total time=   0.2s\n",
      "[CV] END .................n_estimators=300, random_state=101; total time=   0.2s\n",
      "[CV] END .................n_estimators=300, random_state=101; total time=   0.2s\n",
      "[CV] END .................n_estimators=310, random_state=101; total time=   0.2s\n",
      "[CV] END .................n_estimators=310, random_state=101; total time=   0.2s\n",
      "[CV] END .................n_estimators=310, random_state=101; total time=   0.2s\n",
      "[CV] END .................n_estimators=310, random_state=101; total time=   0.2s\n",
      "[CV] END .................n_estimators=310, random_state=101; total time=   0.2s\n",
      "[CV] END .................n_estimators=320, random_state=101; total time=   0.2s\n",
      "[CV] END .................n_estimators=320, random_state=101; total time=   0.2s\n",
      "[CV] END .................n_estimators=320, random_state=101; total time=   0.2s\n",
      "[CV] END .................n_estimators=320, random_state=101; total time=   0.2s\n",
      "[CV] END .................n_estimators=320, random_state=101; total time=   0.2s\n",
      "[CV] END .................n_estimators=330, random_state=101; total time=   0.2s\n",
      "[CV] END .................n_estimators=330, random_state=101; total time=   0.2s\n",
      "[CV] END .................n_estimators=330, random_state=101; total time=   0.2s\n",
      "[CV] END .................n_estimators=330, random_state=101; total time=   0.2s\n",
      "[CV] END .................n_estimators=330, random_state=101; total time=   0.2s\n",
      "[CV] END .................n_estimators=340, random_state=101; total time=   0.2s\n",
      "[CV] END .................n_estimators=340, random_state=101; total time=   0.2s\n",
      "[CV] END .................n_estimators=340, random_state=101; total time=   0.2s\n",
      "[CV] END .................n_estimators=340, random_state=101; total time=   0.2s\n",
      "[CV] END .................n_estimators=340, random_state=101; total time=   0.2s\n",
      "[CV] END .................n_estimators=350, random_state=101; total time=   0.2s\n",
      "[CV] END .................n_estimators=350, random_state=101; total time=   0.2s\n",
      "[CV] END .................n_estimators=350, random_state=101; total time=   0.2s\n",
      "[CV] END .................n_estimators=350, random_state=101; total time=   0.2s\n",
      "[CV] END .................n_estimators=350, random_state=101; total time=   0.2s\n",
      "[CV] END .................n_estimators=360, random_state=101; total time=   0.2s\n",
      "[CV] END .................n_estimators=360, random_state=101; total time=   0.2s\n",
      "[CV] END .................n_estimators=360, random_state=101; total time=   0.2s\n",
      "[CV] END .................n_estimators=360, random_state=101; total time=   0.2s\n",
      "[CV] END .................n_estimators=360, random_state=101; total time=   0.2s\n",
      "[CV] END .................n_estimators=370, random_state=101; total time=   0.2s\n",
      "[CV] END .................n_estimators=370, random_state=101; total time=   0.2s\n",
      "[CV] END .................n_estimators=370, random_state=101; total time=   0.2s\n",
      "[CV] END .................n_estimators=370, random_state=101; total time=   0.2s\n",
      "[CV] END .................n_estimators=370, random_state=101; total time=   0.2s\n",
      "[CV] END .................n_estimators=380, random_state=101; total time=   0.2s\n",
      "[CV] END .................n_estimators=380, random_state=101; total time=   0.2s\n",
      "[CV] END .................n_estimators=380, random_state=101; total time=   0.2s\n",
      "[CV] END .................n_estimators=380, random_state=101; total time=   0.2s\n",
      "[CV] END .................n_estimators=380, random_state=101; total time=   0.2s\n",
      "[CV] END .................n_estimators=390, random_state=101; total time=   0.2s\n",
      "[CV] END .................n_estimators=390, random_state=101; total time=   0.2s\n",
      "[CV] END .................n_estimators=390, random_state=101; total time=   0.2s\n",
      "[CV] END .................n_estimators=390, random_state=101; total time=   0.2s\n",
      "[CV] END .................n_estimators=390, random_state=101; total time=   0.2s\n",
      "[CV] END .................n_estimators=400, random_state=101; total time=   0.2s\n",
      "[CV] END .................n_estimators=400, random_state=101; total time=   0.2s\n",
      "[CV] END .................n_estimators=400, random_state=101; total time=   0.2s\n",
      "[CV] END .................n_estimators=400, random_state=101; total time=   0.2s\n",
      "[CV] END .................n_estimators=400, random_state=101; total time=   0.2s\n",
      "[CV] END .................n_estimators=410, random_state=101; total time=   0.2s\n",
      "[CV] END .................n_estimators=410, random_state=101; total time=   0.2s\n",
      "[CV] END .................n_estimators=410, random_state=101; total time=   0.2s\n",
      "[CV] END .................n_estimators=410, random_state=101; total time=   0.2s\n",
      "[CV] END .................n_estimators=410, random_state=101; total time=   0.2s\n",
      "[CV] END .................n_estimators=420, random_state=101; total time=   0.3s\n",
      "[CV] END .................n_estimators=420, random_state=101; total time=   0.3s\n",
      "[CV] END .................n_estimators=420, random_state=101; total time=   0.3s\n",
      "[CV] END .................n_estimators=420, random_state=101; total time=   0.3s\n",
      "[CV] END .................n_estimators=420, random_state=101; total time=   0.3s\n",
      "[CV] END .................n_estimators=430, random_state=101; total time=   0.3s\n",
      "[CV] END .................n_estimators=430, random_state=101; total time=   0.3s\n",
      "[CV] END .................n_estimators=430, random_state=101; total time=   0.3s\n",
      "[CV] END .................n_estimators=430, random_state=101; total time=   0.3s\n",
      "[CV] END .................n_estimators=430, random_state=101; total time=   0.3s\n",
      "[CV] END .................n_estimators=440, random_state=101; total time=   0.3s\n",
      "[CV] END .................n_estimators=440, random_state=101; total time=   0.3s\n",
      "[CV] END .................n_estimators=440, random_state=101; total time=   0.3s\n",
      "[CV] END .................n_estimators=440, random_state=101; total time=   0.3s\n",
      "[CV] END .................n_estimators=440, random_state=101; total time=   0.3s\n",
      "[CV] END .................n_estimators=450, random_state=101; total time=   0.3s\n",
      "[CV] END .................n_estimators=450, random_state=101; total time=   0.3s\n",
      "[CV] END .................n_estimators=450, random_state=101; total time=   0.3s\n",
      "[CV] END .................n_estimators=450, random_state=101; total time=   0.3s\n",
      "[CV] END .................n_estimators=450, random_state=101; total time=   0.3s\n",
      "[CV] END .................n_estimators=460, random_state=101; total time=   0.3s\n",
      "[CV] END .................n_estimators=460, random_state=101; total time=   0.3s\n",
      "[CV] END .................n_estimators=460, random_state=101; total time=   0.3s\n",
      "[CV] END .................n_estimators=460, random_state=101; total time=   0.3s\n",
      "[CV] END .................n_estimators=460, random_state=101; total time=   0.3s\n",
      "[CV] END .................n_estimators=470, random_state=101; total time=   0.3s\n",
      "[CV] END .................n_estimators=470, random_state=101; total time=   0.3s\n",
      "[CV] END .................n_estimators=470, random_state=101; total time=   0.3s\n",
      "[CV] END .................n_estimators=470, random_state=101; total time=   0.3s\n",
      "[CV] END .................n_estimators=470, random_state=101; total time=   0.3s\n",
      "[CV] END .................n_estimators=480, random_state=101; total time=   0.3s\n",
      "[CV] END .................n_estimators=480, random_state=101; total time=   0.3s\n",
      "[CV] END .................n_estimators=480, random_state=101; total time=   0.3s\n",
      "[CV] END .................n_estimators=480, random_state=101; total time=   0.3s\n",
      "[CV] END .................n_estimators=480, random_state=101; total time=   0.3s\n",
      "[CV] END .................n_estimators=490, random_state=101; total time=   0.3s\n",
      "[CV] END .................n_estimators=490, random_state=101; total time=   0.3s\n",
      "[CV] END .................n_estimators=490, random_state=101; total time=   0.3s\n",
      "[CV] END .................n_estimators=490, random_state=101; total time=   0.3s\n",
      "[CV] END .................n_estimators=490, random_state=101; total time=   0.3s\n",
      "[CV] END .................n_estimators=500, random_state=101; total time=   0.3s\n",
      "[CV] END .................n_estimators=500, random_state=101; total time=   0.3s\n",
      "[CV] END .................n_estimators=500, random_state=101; total time=   0.3s\n",
      "[CV] END .................n_estimators=500, random_state=101; total time=   0.3s\n",
      "[CV] END .................n_estimators=500, random_state=101; total time=   0.3s\n",
      "[CV] END .................n_estimators=510, random_state=101; total time=   0.3s\n",
      "[CV] END .................n_estimators=510, random_state=101; total time=   0.3s\n",
      "[CV] END .................n_estimators=510, random_state=101; total time=   0.3s\n",
      "[CV] END .................n_estimators=510, random_state=101; total time=   0.3s\n",
      "[CV] END .................n_estimators=510, random_state=101; total time=   0.3s\n",
      "[CV] END .................n_estimators=520, random_state=101; total time=   0.3s\n",
      "[CV] END .................n_estimators=520, random_state=101; total time=   0.3s\n",
      "[CV] END .................n_estimators=520, random_state=101; total time=   0.3s\n",
      "[CV] END .................n_estimators=520, random_state=101; total time=   0.3s\n",
      "[CV] END .................n_estimators=520, random_state=101; total time=   0.3s\n",
      "[CV] END .................n_estimators=530, random_state=101; total time=   0.3s\n",
      "[CV] END .................n_estimators=530, random_state=101; total time=   0.3s\n",
      "[CV] END .................n_estimators=530, random_state=101; total time=   0.3s\n",
      "[CV] END .................n_estimators=530, random_state=101; total time=   0.4s\n",
      "[CV] END .................n_estimators=530, random_state=101; total time=   0.4s\n",
      "[CV] END .................n_estimators=540, random_state=101; total time=   0.4s\n",
      "[CV] END .................n_estimators=540, random_state=101; total time=   0.4s\n",
      "[CV] END .................n_estimators=540, random_state=101; total time=   0.4s\n",
      "[CV] END .................n_estimators=540, random_state=101; total time=   0.4s\n",
      "[CV] END .................n_estimators=540, random_state=101; total time=   0.4s\n",
      "[CV] END .................n_estimators=550, random_state=101; total time=   0.4s\n",
      "[CV] END .................n_estimators=550, random_state=101; total time=   0.4s\n",
      "[CV] END .................n_estimators=550, random_state=101; total time=   0.4s\n",
      "[CV] END .................n_estimators=550, random_state=101; total time=   0.4s\n",
      "[CV] END .................n_estimators=550, random_state=101; total time=   0.5s\n",
      "[CV] END .................n_estimators=560, random_state=101; total time=   0.4s\n",
      "[CV] END .................n_estimators=560, random_state=101; total time=   0.4s\n",
      "[CV] END .................n_estimators=560, random_state=101; total time=   0.4s\n",
      "[CV] END .................n_estimators=560, random_state=101; total time=   0.4s\n",
      "[CV] END .................n_estimators=560, random_state=101; total time=   0.4s\n",
      "[CV] END .................n_estimators=570, random_state=101; total time=   0.4s\n",
      "[CV] END .................n_estimators=570, random_state=101; total time=   0.4s\n",
      "[CV] END .................n_estimators=570, random_state=101; total time=   0.4s\n",
      "[CV] END .................n_estimators=570, random_state=101; total time=   0.4s\n",
      "[CV] END .................n_estimators=570, random_state=101; total time=   0.4s\n",
      "[CV] END .................n_estimators=580, random_state=101; total time=   0.4s\n",
      "[CV] END .................n_estimators=580, random_state=101; total time=   0.4s\n",
      "[CV] END .................n_estimators=580, random_state=101; total time=   0.4s\n",
      "[CV] END .................n_estimators=580, random_state=101; total time=   0.4s\n",
      "[CV] END .................n_estimators=580, random_state=101; total time=   0.4s\n",
      "[CV] END .................n_estimators=590, random_state=101; total time=   0.4s\n",
      "[CV] END .................n_estimators=590, random_state=101; total time=   0.4s\n",
      "[CV] END .................n_estimators=590, random_state=101; total time=   0.4s\n",
      "[CV] END .................n_estimators=590, random_state=101; total time=   0.4s\n",
      "[CV] END .................n_estimators=590, random_state=101; total time=   0.4s\n"
     ]
    },
    {
     "name": "stderr",
     "output_type": "stream",
     "text": [
      "C:\\Users\\Daniel\\anaconda3\\envs\\data_science\\lib\\site-packages\\sklearn\\model_selection\\_validation.py:372: FitFailedWarning: \n",
      "5 fits failed out of a total of 300.\n",
      "The score on these train-test partitions for these parameters will be set to nan.\n",
      "If these failures are not expected, you can try to debug them by setting error_score='raise'.\n",
      "\n",
      "Below are more details about the failures:\n",
      "--------------------------------------------------------------------------------\n",
      "5 fits failed with the following error:\n",
      "Traceback (most recent call last):\n",
      "  File \"C:\\Users\\Daniel\\anaconda3\\envs\\data_science\\lib\\site-packages\\sklearn\\model_selection\\_validation.py\", line 681, in _fit_and_score\n",
      "    estimator.fit(X_train, y_train, **fit_params)\n",
      "  File \"C:\\Users\\Daniel\\anaconda3\\envs\\data_science\\lib\\site-packages\\sklearn\\ensemble\\_forest.py\", line 384, in fit\n",
      "    self._validate_estimator()\n",
      "  File \"C:\\Users\\Daniel\\anaconda3\\envs\\data_science\\lib\\site-packages\\sklearn\\ensemble\\_base.py\", line 138, in _validate_estimator\n",
      "    raise ValueError(\n",
      "ValueError: n_estimators must be greater than zero, got 0.\n",
      "\n",
      "  warnings.warn(some_fits_failed_message, FitFailedWarning)\n",
      "C:\\Users\\Daniel\\anaconda3\\envs\\data_science\\lib\\site-packages\\sklearn\\model_selection\\_search.py:969: UserWarning: One or more of the test scores are non-finite: [       nan 0.27691873 0.30906496 0.3298915  0.32780965 0.33184346\n",
      " 0.33366801 0.33224713 0.3344791  0.334949   0.33559511 0.33739694\n",
      " 0.3372705  0.33842951 0.3393106  0.33950259 0.33766225 0.33685432\n",
      " 0.33453738 0.33452728 0.33454737 0.33524665 0.33719076 0.33888664\n",
      " 0.33838931 0.33842773 0.33618917 0.33803354 0.33883768 0.33847477\n",
      " 0.33866121 0.33818896 0.33959528 0.34003844 0.33944455 0.33927361\n",
      " 0.33937632 0.33942846 0.33874965 0.33823151 0.33811033 0.33870252\n",
      " 0.338453   0.33892746 0.33906936 0.3396692  0.33971283 0.33896079\n",
      " 0.33897144 0.3383423  0.33816973 0.33837333 0.33855102 0.33785814\n",
      " 0.33769525 0.33770664 0.33821415 0.33864215 0.33885494 0.33895134]\n",
      "  warnings.warn(\n"
     ]
    }
   ],
   "source": [
    "for model in models:\n",
    "    if model.__class__.__name__ == \"RandomForestRegressor\":\n",
    "        grid = GridSearchCV(estimator=model, param_grid=param_grid_forest, verbose=2)\n",
    "        grid.fit(X_train_scaled, y_train)\n",
    "    else:\n",
    "        grid = GridSearchCV(estimator=model, param_grid=param_grid, verbose=2)\n",
    "        grid.fit(X_train_scaled, y_train)"
   ]
  },
  {
   "cell_type": "code",
   "execution_count": 48,
   "metadata": {},
   "outputs": [
    {
     "data": {
      "text/plain": [
       "{'n_estimators': 330, 'random_state': 101}"
      ]
     },
     "execution_count": 48,
     "metadata": {},
     "output_type": "execute_result"
    }
   ],
   "source": [
    "grid.best_params_"
   ]
  },
  {
   "cell_type": "code",
   "execution_count": 49,
   "metadata": {},
   "outputs": [
    {
     "data": {
      "text/plain": [
       "RandomForestRegressor(n_estimators=330, random_state=101)"
      ]
     },
     "execution_count": 49,
     "metadata": {},
     "output_type": "execute_result"
    }
   ],
   "source": [
    "grid.best_estimator_"
   ]
  },
  {
   "cell_type": "code",
   "execution_count": 50,
   "metadata": {},
   "outputs": [],
   "source": [
    "grid_predictions = grid.predict(X_test_scaled)"
   ]
  },
  {
   "cell_type": "code",
   "execution_count": 51,
   "metadata": {},
   "outputs": [
    {
     "data": {
      "text/plain": [
       "(0.5089480068542569, 0.43336792456719064, 0.6583068620082816)"
      ]
     },
     "execution_count": 51,
     "metadata": {},
     "output_type": "execute_result"
    }
   ],
   "source": [
    "mean_absolute_error(y_test, grid_predictions), mean_squared_error(y_test, grid_predictions), np.sqrt(mean_squared_error(y_test, grid_predictions))"
   ]
  },
  {
   "cell_type": "code",
   "execution_count": 52,
   "metadata": {},
   "outputs": [
    {
     "data": {
      "text/html": [
       "<div>\n",
       "<style scoped>\n",
       "    .dataframe tbody tr th:only-of-type {\n",
       "        vertical-align: middle;\n",
       "    }\n",
       "\n",
       "    .dataframe tbody tr th {\n",
       "        vertical-align: top;\n",
       "    }\n",
       "\n",
       "    .dataframe thead th {\n",
       "        text-align: right;\n",
       "    }\n",
       "</style>\n",
       "<table border=\"1\" class=\"dataframe\">\n",
       "  <thead>\n",
       "    <tr style=\"text-align: right;\">\n",
       "      <th></th>\n",
       "      <th>MAE</th>\n",
       "      <th>MSE</th>\n",
       "      <th>RMSE</th>\n",
       "      <th>R2</th>\n",
       "      <th>EVS</th>\n",
       "    </tr>\n",
       "    <tr>\n",
       "      <th>model</th>\n",
       "      <th></th>\n",
       "      <th></th>\n",
       "      <th></th>\n",
       "      <th></th>\n",
       "      <th></th>\n",
       "    </tr>\n",
       "  </thead>\n",
       "  <tbody>\n",
       "    <tr>\n",
       "      <th>Lasso</th>\n",
       "      <td>0.523623</td>\n",
       "      <td>0.446284</td>\n",
       "      <td>0.668045</td>\n",
       "      <td>0.330225</td>\n",
       "      <td>0.330682</td>\n",
       "    </tr>\n",
       "    <tr>\n",
       "      <th>Ridge</th>\n",
       "      <td>0.522912</td>\n",
       "      <td>0.446220</td>\n",
       "      <td>0.667997</td>\n",
       "      <td>0.330321</td>\n",
       "      <td>0.330777</td>\n",
       "    </tr>\n",
       "    <tr>\n",
       "      <th>ElasticNet</th>\n",
       "      <td>0.523747</td>\n",
       "      <td>0.446411</td>\n",
       "      <td>0.668140</td>\n",
       "      <td>0.330035</td>\n",
       "      <td>0.330493</td>\n",
       "    </tr>\n",
       "    <tr>\n",
       "      <th>DecisionTreeRegressor</th>\n",
       "      <td>0.573661</td>\n",
       "      <td>0.768080</td>\n",
       "      <td>0.876402</td>\n",
       "      <td>-0.152721</td>\n",
       "      <td>-0.152613</td>\n",
       "    </tr>\n",
       "    <tr>\n",
       "      <th>RandomForestRegressor</th>\n",
       "      <td>0.518673</td>\n",
       "      <td>0.457776</td>\n",
       "      <td>0.676591</td>\n",
       "      <td>0.312978</td>\n",
       "      <td>0.313548</td>\n",
       "    </tr>\n",
       "  </tbody>\n",
       "</table>\n",
       "</div>"
      ],
      "text/plain": [
       "                            MAE       MSE      RMSE        R2       EVS\n",
       "model                                                                  \n",
       "Lasso                  0.523623  0.446284  0.668045  0.330225  0.330682\n",
       "Ridge                  0.522912  0.446220  0.667997  0.330321  0.330777\n",
       "ElasticNet             0.523747  0.446411  0.668140  0.330035  0.330493\n",
       "DecisionTreeRegressor  0.573661  0.768080  0.876402 -0.152721 -0.152613\n",
       "RandomForestRegressor  0.518673  0.457776  0.676591  0.312978  0.313548"
      ]
     },
     "execution_count": 52,
     "metadata": {},
     "output_type": "execute_result"
    }
   ],
   "source": [
    "model_results.head()"
   ]
  },
  {
   "cell_type": "markdown",
   "metadata": {},
   "source": [
    "### Summary\n",
    "- Pick Random Forest Regressor with n_estimator=330"
   ]
  },
  {
   "cell_type": "markdown",
   "metadata": {},
   "source": [
    "# 5. Train model and save it"
   ]
  },
  {
   "cell_type": "code",
   "execution_count": 53,
   "metadata": {},
   "outputs": [
    {
     "data": {
      "text/plain": [
       "['random_forest_regressor.joblib']"
      ]
     },
     "execution_count": 53,
     "metadata": {},
     "output_type": "execute_result"
    }
   ],
   "source": [
    "model = RandomForestRegressor(n_estimators=330, random_state=101)\n",
    "model.fit(X_train_scaled, y_train)\n",
    "joblib.dump(model, \"random_forest_regressor.joblib\")"
   ]
  },
  {
   "cell_type": "markdown",
   "metadata": {},
   "source": [
    "# 6. Pipeline"
   ]
  },
  {
   "cell_type": "code",
   "execution_count": 54,
   "metadata": {},
   "outputs": [],
   "source": [
    "from sklearn.pipeline import Pipeline"
   ]
  },
  {
   "cell_type": "code",
   "execution_count": 57,
   "metadata": {},
   "outputs": [],
   "source": [
    "from typing import List\n",
    "import pandas as pd\n",
    "from sklearn.base import BaseEstimator, TransformerMixin\n",
    "\n",
    "class ColNameTransformer(BaseEstimator, TransformerMixin):\n",
    "    def __init__(self, cols: List[str]):\n",
    "        if not isinstance(cols, list):\n",
    "            raise ValueError(\"Columns should be a list\")\n",
    "        self.cols = cols\n",
    "\n",
    "    def fit(self, X: pd.DataFrame, y: pd.Series = None):\n",
    "        # do nothing\n",
    "        return self\n",
    "\n",
    "    def transform(self, X: pd.DataFrame) -> pd.DataFrame:\n",
    "        X = X.copy()\n",
    "        cols = X.columns\n",
    "        cols = [col.replace(\" \", \"_\") for col in cols]\n",
    "        X.columns = cols\n",
    "        return X\n"
   ]
  },
  {
   "cell_type": "code",
   "execution_count": 60,
   "metadata": {},
   "outputs": [],
   "source": [
    "pipeline = Pipeline(\n",
    "    [\n",
    "        (\"ColNameTransformer\", ColNameTransformer(X_test_scaled.columns.to_list())),\n",
    "        (\"MinMaxScaler\", MinMaxScaler()),\n",
    "        (\"RandomForestRegressor\", RandomForestRegressor(\n",
    "            n_estimators=330,\n",
    "            random_state=101\n",
    "        ))\n",
    "    ]\n",
    ")"
   ]
  },
  {
   "cell_type": "code",
   "execution_count": 61,
   "metadata": {},
   "outputs": [
    {
     "data": {
      "text/plain": [
       "Pipeline(steps=[('ColNameTransformer',\n",
       "                 ColNameTransformer(cols=['alcohol', 'sulphates', 'citric_acid',\n",
       "                                          'volatile_acidity'])),\n",
       "                ('MinMaxScaler', MinMaxScaler()),\n",
       "                ('RandomForestRegressor',\n",
       "                 RandomForestRegressor(n_estimators=330, random_state=101))])"
      ]
     },
     "execution_count": 61,
     "metadata": {},
     "output_type": "execute_result"
    }
   ],
   "source": [
    "pipeline.fit(X_train_scaled, y_train)"
   ]
  },
  {
   "cell_type": "code",
   "execution_count": 62,
   "metadata": {},
   "outputs": [
    {
     "data": {
      "text/plain": [
       "Index(['fixed_acidity', 'volatile_acidity', 'citric_acid', 'residual_sugar',\n",
       "       'chlorides', 'free_sulfur_dioxide', 'total_sulfur_dioxide', 'density',\n",
       "       'pH', 'sulphates', 'alcohol', 'TARGET'],\n",
       "      dtype='object')"
      ]
     },
     "execution_count": 62,
     "metadata": {},
     "output_type": "execute_result"
    }
   ],
   "source": [
    "df.columns"
   ]
  },
  {
   "cell_type": "code",
   "execution_count": null,
   "metadata": {},
   "outputs": [],
   "source": []
  }
 ],
 "metadata": {
  "interpreter": {
   "hash": "d187e30c2dd112197116c4f5263029e046d02fb42f12fabba0cb2d61e383521a"
  },
  "kernelspec": {
   "display_name": "Python 3.9.7 ('data_science')",
   "language": "python",
   "name": "python3"
  },
  "language_info": {
   "codemirror_mode": {
    "name": "ipython",
    "version": 3
   },
   "file_extension": ".py",
   "mimetype": "text/x-python",
   "name": "python",
   "nbconvert_exporter": "python",
   "pygments_lexer": "ipython3",
   "version": "3.9.7"
  },
  "orig_nbformat": 4
 },
 "nbformat": 4,
 "nbformat_minor": 2
}
